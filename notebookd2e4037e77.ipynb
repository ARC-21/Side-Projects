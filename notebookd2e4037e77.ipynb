{
 "cells": [
  {
   "cell_type": "code",
   "execution_count": 1,
   "id": "d9b01cb8",
   "metadata": {
    "_cell_guid": "b1076dfc-b9ad-4769-8c92-a6c4dae69d19",
    "_uuid": "8f2839f25d086af736a60e9eeb907d3b93b6e0e5",
    "execution": {
     "iopub.execute_input": "2025-03-18T14:37:25.221270Z",
     "iopub.status.busy": "2025-03-18T14:37:25.220855Z",
     "iopub.status.idle": "2025-03-18T14:37:26.095700Z",
     "shell.execute_reply": "2025-03-18T14:37:26.094550Z"
    },
    "papermill": {
     "duration": 0.885064,
     "end_time": "2025-03-18T14:37:26.097455",
     "exception": false,
     "start_time": "2025-03-18T14:37:25.212391",
     "status": "completed"
    },
    "tags": []
   },
   "outputs": [
    {
     "name": "stdout",
     "output_type": "stream",
     "text": [
      "/kaggle/input/playground-series-s5e3/sample_submission.csv\n",
      "/kaggle/input/playground-series-s5e3/train.csv\n",
      "/kaggle/input/playground-series-s5e3/test.csv\n"
     ]
    }
   ],
   "source": [
    "# This Python 3 environment comes with many helpful analytics libraries installed\n",
    "# It is defined by the kaggle/python Docker image: https://github.com/kaggle/docker-python\n",
    "# For example, here's several helpful packages to load\n",
    "\n",
    "import numpy as np # linear algebra\n",
    "import pandas as pd # data processing, CSV file I/O (e.g. pd.read_csv)\n",
    "\n",
    "# Input data files are available in the read-only \"../input/\" directory\n",
    "# For example, running this (by clicking run or pressing Shift+Enter) will list all files under the input directory\n",
    "\n",
    "import os\n",
    "for dirname, _, filenames in os.walk('/kaggle/input'):\n",
    "    for filename in filenames:\n",
    "        print(os.path.join(dirname, filename))\n",
    "\n",
    "# You can write up to 20GB to the current directory (/kaggle/working/) that gets preserved as output when you create a version using \"Save & Run All\" \n",
    "# You can also write temporary files to /kaggle/temp/, but they won't be saved outside of the current session"
   ]
  },
  {
   "cell_type": "markdown",
   "id": "91942556",
   "metadata": {
    "papermill": {
     "duration": 0.006443,
     "end_time": "2025-03-18T14:37:26.111213",
     "exception": false,
     "start_time": "2025-03-18T14:37:26.104770",
     "status": "completed"
    },
    "tags": []
   },
   "source": [
    "Load Data"
   ]
  },
  {
   "cell_type": "code",
   "execution_count": 2,
   "id": "e51f5034",
   "metadata": {
    "execution": {
     "iopub.execute_input": "2025-03-18T14:37:26.126108Z",
     "iopub.status.busy": "2025-03-18T14:37:26.125624Z",
     "iopub.status.idle": "2025-03-18T14:37:26.155784Z",
     "shell.execute_reply": "2025-03-18T14:37:26.154774Z"
    },
    "papermill": {
     "duration": 0.040174,
     "end_time": "2025-03-18T14:37:26.158088",
     "exception": false,
     "start_time": "2025-03-18T14:37:26.117914",
     "status": "completed"
    },
    "tags": []
   },
   "outputs": [],
   "source": [
    "df = pd.read_csv('/kaggle/input/playground-series-s5e3/train.csv')\n",
    "test = pd.read_csv('/kaggle/input/playground-series-s5e3/test.csv')"
   ]
  },
  {
   "cell_type": "markdown",
   "id": "ff1811cf",
   "metadata": {
    "papermill": {
     "duration": 0.006459,
     "end_time": "2025-03-18T14:37:26.172126",
     "exception": false,
     "start_time": "2025-03-18T14:37:26.165667",
     "status": "completed"
    },
    "tags": []
   },
   "source": [
    "Visualize"
   ]
  },
  {
   "cell_type": "code",
   "execution_count": 3,
   "id": "12bd29a7",
   "metadata": {
    "execution": {
     "iopub.execute_input": "2025-03-18T14:37:26.186897Z",
     "iopub.status.busy": "2025-03-18T14:37:26.186539Z",
     "iopub.status.idle": "2025-03-18T14:37:26.232662Z",
     "shell.execute_reply": "2025-03-18T14:37:26.231662Z"
    },
    "papermill": {
     "duration": 0.055947,
     "end_time": "2025-03-18T14:37:26.234810",
     "exception": false,
     "start_time": "2025-03-18T14:37:26.178863",
     "status": "completed"
    },
    "tags": []
   },
   "outputs": [
    {
     "data": {
      "text/html": [
       "<div>\n",
       "<style scoped>\n",
       "    .dataframe tbody tr th:only-of-type {\n",
       "        vertical-align: middle;\n",
       "    }\n",
       "\n",
       "    .dataframe tbody tr th {\n",
       "        vertical-align: top;\n",
       "    }\n",
       "\n",
       "    .dataframe thead th {\n",
       "        text-align: right;\n",
       "    }\n",
       "</style>\n",
       "<table border=\"1\" class=\"dataframe\">\n",
       "  <thead>\n",
       "    <tr style=\"text-align: right;\">\n",
       "      <th></th>\n",
       "      <th>id</th>\n",
       "      <th>day</th>\n",
       "      <th>pressure</th>\n",
       "      <th>maxtemp</th>\n",
       "      <th>temparature</th>\n",
       "      <th>mintemp</th>\n",
       "      <th>dewpoint</th>\n",
       "      <th>humidity</th>\n",
       "      <th>cloud</th>\n",
       "      <th>sunshine</th>\n",
       "      <th>winddirection</th>\n",
       "      <th>windspeed</th>\n",
       "      <th>rainfall</th>\n",
       "    </tr>\n",
       "  </thead>\n",
       "  <tbody>\n",
       "    <tr>\n",
       "      <th>0</th>\n",
       "      <td>0</td>\n",
       "      <td>1</td>\n",
       "      <td>1017.4</td>\n",
       "      <td>21.2</td>\n",
       "      <td>20.6</td>\n",
       "      <td>19.9</td>\n",
       "      <td>19.4</td>\n",
       "      <td>87.0</td>\n",
       "      <td>88.0</td>\n",
       "      <td>1.1</td>\n",
       "      <td>60.0</td>\n",
       "      <td>17.2</td>\n",
       "      <td>1</td>\n",
       "    </tr>\n",
       "    <tr>\n",
       "      <th>1</th>\n",
       "      <td>1</td>\n",
       "      <td>2</td>\n",
       "      <td>1019.5</td>\n",
       "      <td>16.2</td>\n",
       "      <td>16.9</td>\n",
       "      <td>15.8</td>\n",
       "      <td>15.4</td>\n",
       "      <td>95.0</td>\n",
       "      <td>91.0</td>\n",
       "      <td>0.0</td>\n",
       "      <td>50.0</td>\n",
       "      <td>21.9</td>\n",
       "      <td>1</td>\n",
       "    </tr>\n",
       "    <tr>\n",
       "      <th>2</th>\n",
       "      <td>2</td>\n",
       "      <td>3</td>\n",
       "      <td>1024.1</td>\n",
       "      <td>19.4</td>\n",
       "      <td>16.1</td>\n",
       "      <td>14.6</td>\n",
       "      <td>9.3</td>\n",
       "      <td>75.0</td>\n",
       "      <td>47.0</td>\n",
       "      <td>8.3</td>\n",
       "      <td>70.0</td>\n",
       "      <td>18.1</td>\n",
       "      <td>1</td>\n",
       "    </tr>\n",
       "    <tr>\n",
       "      <th>3</th>\n",
       "      <td>3</td>\n",
       "      <td>4</td>\n",
       "      <td>1013.4</td>\n",
       "      <td>18.1</td>\n",
       "      <td>17.8</td>\n",
       "      <td>16.9</td>\n",
       "      <td>16.8</td>\n",
       "      <td>95.0</td>\n",
       "      <td>95.0</td>\n",
       "      <td>0.0</td>\n",
       "      <td>60.0</td>\n",
       "      <td>35.6</td>\n",
       "      <td>1</td>\n",
       "    </tr>\n",
       "    <tr>\n",
       "      <th>4</th>\n",
       "      <td>4</td>\n",
       "      <td>5</td>\n",
       "      <td>1021.8</td>\n",
       "      <td>21.3</td>\n",
       "      <td>18.4</td>\n",
       "      <td>15.2</td>\n",
       "      <td>9.6</td>\n",
       "      <td>52.0</td>\n",
       "      <td>45.0</td>\n",
       "      <td>3.6</td>\n",
       "      <td>40.0</td>\n",
       "      <td>24.8</td>\n",
       "      <td>0</td>\n",
       "    </tr>\n",
       "  </tbody>\n",
       "</table>\n",
       "</div>"
      ],
      "text/plain": [
       "   id  day  pressure  maxtemp  temparature  mintemp  dewpoint  humidity  \\\n",
       "0   0    1    1017.4     21.2         20.6     19.9      19.4      87.0   \n",
       "1   1    2    1019.5     16.2         16.9     15.8      15.4      95.0   \n",
       "2   2    3    1024.1     19.4         16.1     14.6       9.3      75.0   \n",
       "3   3    4    1013.4     18.1         17.8     16.9      16.8      95.0   \n",
       "4   4    5    1021.8     21.3         18.4     15.2       9.6      52.0   \n",
       "\n",
       "   cloud  sunshine  winddirection  windspeed  rainfall  \n",
       "0   88.0       1.1           60.0       17.2         1  \n",
       "1   91.0       0.0           50.0       21.9         1  \n",
       "2   47.0       8.3           70.0       18.1         1  \n",
       "3   95.0       0.0           60.0       35.6         1  \n",
       "4   45.0       3.6           40.0       24.8         0  "
      ]
     },
     "metadata": {},
     "output_type": "display_data"
    },
    {
     "name": "stdout",
     "output_type": "stream",
     "text": [
      "(2190, 13)\n"
     ]
    },
    {
     "data": {
      "text/html": [
       "<div>\n",
       "<style scoped>\n",
       "    .dataframe tbody tr th:only-of-type {\n",
       "        vertical-align: middle;\n",
       "    }\n",
       "\n",
       "    .dataframe tbody tr th {\n",
       "        vertical-align: top;\n",
       "    }\n",
       "\n",
       "    .dataframe thead th {\n",
       "        text-align: right;\n",
       "    }\n",
       "</style>\n",
       "<table border=\"1\" class=\"dataframe\">\n",
       "  <thead>\n",
       "    <tr style=\"text-align: right;\">\n",
       "      <th></th>\n",
       "      <th>id</th>\n",
       "      <th>day</th>\n",
       "      <th>pressure</th>\n",
       "      <th>maxtemp</th>\n",
       "      <th>temparature</th>\n",
       "      <th>mintemp</th>\n",
       "      <th>dewpoint</th>\n",
       "      <th>humidity</th>\n",
       "      <th>cloud</th>\n",
       "      <th>sunshine</th>\n",
       "      <th>winddirection</th>\n",
       "      <th>windspeed</th>\n",
       "    </tr>\n",
       "  </thead>\n",
       "  <tbody>\n",
       "    <tr>\n",
       "      <th>0</th>\n",
       "      <td>2190</td>\n",
       "      <td>1</td>\n",
       "      <td>1019.5</td>\n",
       "      <td>17.5</td>\n",
       "      <td>15.8</td>\n",
       "      <td>12.7</td>\n",
       "      <td>14.9</td>\n",
       "      <td>96.0</td>\n",
       "      <td>99.0</td>\n",
       "      <td>0.0</td>\n",
       "      <td>50.0</td>\n",
       "      <td>24.3</td>\n",
       "    </tr>\n",
       "    <tr>\n",
       "      <th>1</th>\n",
       "      <td>2191</td>\n",
       "      <td>2</td>\n",
       "      <td>1016.5</td>\n",
       "      <td>17.5</td>\n",
       "      <td>16.5</td>\n",
       "      <td>15.8</td>\n",
       "      <td>15.1</td>\n",
       "      <td>97.0</td>\n",
       "      <td>99.0</td>\n",
       "      <td>0.0</td>\n",
       "      <td>50.0</td>\n",
       "      <td>35.3</td>\n",
       "    </tr>\n",
       "    <tr>\n",
       "      <th>2</th>\n",
       "      <td>2192</td>\n",
       "      <td>3</td>\n",
       "      <td>1023.9</td>\n",
       "      <td>11.2</td>\n",
       "      <td>10.4</td>\n",
       "      <td>9.4</td>\n",
       "      <td>8.9</td>\n",
       "      <td>86.0</td>\n",
       "      <td>96.0</td>\n",
       "      <td>0.0</td>\n",
       "      <td>40.0</td>\n",
       "      <td>16.9</td>\n",
       "    </tr>\n",
       "    <tr>\n",
       "      <th>3</th>\n",
       "      <td>2193</td>\n",
       "      <td>4</td>\n",
       "      <td>1022.9</td>\n",
       "      <td>20.6</td>\n",
       "      <td>17.3</td>\n",
       "      <td>15.2</td>\n",
       "      <td>9.5</td>\n",
       "      <td>75.0</td>\n",
       "      <td>45.0</td>\n",
       "      <td>7.1</td>\n",
       "      <td>20.0</td>\n",
       "      <td>50.6</td>\n",
       "    </tr>\n",
       "    <tr>\n",
       "      <th>4</th>\n",
       "      <td>2194</td>\n",
       "      <td>5</td>\n",
       "      <td>1022.2</td>\n",
       "      <td>16.1</td>\n",
       "      <td>13.8</td>\n",
       "      <td>6.4</td>\n",
       "      <td>4.3</td>\n",
       "      <td>68.0</td>\n",
       "      <td>49.0</td>\n",
       "      <td>9.2</td>\n",
       "      <td>20.0</td>\n",
       "      <td>19.4</td>\n",
       "    </tr>\n",
       "  </tbody>\n",
       "</table>\n",
       "</div>"
      ],
      "text/plain": [
       "     id  day  pressure  maxtemp  temparature  mintemp  dewpoint  humidity  \\\n",
       "0  2190    1    1019.5     17.5         15.8     12.7      14.9      96.0   \n",
       "1  2191    2    1016.5     17.5         16.5     15.8      15.1      97.0   \n",
       "2  2192    3    1023.9     11.2         10.4      9.4       8.9      86.0   \n",
       "3  2193    4    1022.9     20.6         17.3     15.2       9.5      75.0   \n",
       "4  2194    5    1022.2     16.1         13.8      6.4       4.3      68.0   \n",
       "\n",
       "   cloud  sunshine  winddirection  windspeed  \n",
       "0   99.0       0.0           50.0       24.3  \n",
       "1   99.0       0.0           50.0       35.3  \n",
       "2   96.0       0.0           40.0       16.9  \n",
       "3   45.0       7.1           20.0       50.6  \n",
       "4   49.0       9.2           20.0       19.4  "
      ]
     },
     "metadata": {},
     "output_type": "display_data"
    },
    {
     "name": "stdout",
     "output_type": "stream",
     "text": [
      "(730, 12)\n"
     ]
    }
   ],
   "source": [
    "display(df.head())\n",
    "print(df.shape)\n",
    "\n",
    "display(test.head())\n",
    "print(test.shape)"
   ]
  },
  {
   "cell_type": "code",
   "execution_count": 4,
   "id": "b0b0f8c1",
   "metadata": {
    "execution": {
     "iopub.execute_input": "2025-03-18T14:37:26.250912Z",
     "iopub.status.busy": "2025-03-18T14:37:26.250569Z",
     "iopub.status.idle": "2025-03-18T14:37:26.273182Z",
     "shell.execute_reply": "2025-03-18T14:37:26.272202Z"
    },
    "papermill": {
     "duration": 0.032249,
     "end_time": "2025-03-18T14:37:26.274747",
     "exception": false,
     "start_time": "2025-03-18T14:37:26.242498",
     "status": "completed"
    },
    "tags": []
   },
   "outputs": [
    {
     "data": {
      "text/html": [
       "<div>\n",
       "<style scoped>\n",
       "    .dataframe tbody tr th:only-of-type {\n",
       "        vertical-align: middle;\n",
       "    }\n",
       "\n",
       "    .dataframe tbody tr th {\n",
       "        vertical-align: top;\n",
       "    }\n",
       "\n",
       "    .dataframe thead th {\n",
       "        text-align: right;\n",
       "    }\n",
       "</style>\n",
       "<table border=\"1\" class=\"dataframe\">\n",
       "  <thead>\n",
       "    <tr style=\"text-align: right;\">\n",
       "      <th></th>\n",
       "      <th>day</th>\n",
       "      <th>pressure</th>\n",
       "      <th>maxtemp</th>\n",
       "      <th>temparature</th>\n",
       "      <th>mintemp</th>\n",
       "      <th>dewpoint</th>\n",
       "      <th>humidity</th>\n",
       "      <th>cloud</th>\n",
       "      <th>sunshine</th>\n",
       "      <th>winddirection</th>\n",
       "      <th>windspeed</th>\n",
       "      <th>rainfall</th>\n",
       "    </tr>\n",
       "  </thead>\n",
       "  <tbody>\n",
       "    <tr>\n",
       "      <th>0</th>\n",
       "      <td>1</td>\n",
       "      <td>1017.4</td>\n",
       "      <td>21.2</td>\n",
       "      <td>20.6</td>\n",
       "      <td>19.9</td>\n",
       "      <td>19.4</td>\n",
       "      <td>87.0</td>\n",
       "      <td>88.0</td>\n",
       "      <td>1.1</td>\n",
       "      <td>60.0</td>\n",
       "      <td>17.2</td>\n",
       "      <td>1</td>\n",
       "    </tr>\n",
       "    <tr>\n",
       "      <th>1</th>\n",
       "      <td>2</td>\n",
       "      <td>1019.5</td>\n",
       "      <td>16.2</td>\n",
       "      <td>16.9</td>\n",
       "      <td>15.8</td>\n",
       "      <td>15.4</td>\n",
       "      <td>95.0</td>\n",
       "      <td>91.0</td>\n",
       "      <td>0.0</td>\n",
       "      <td>50.0</td>\n",
       "      <td>21.9</td>\n",
       "      <td>1</td>\n",
       "    </tr>\n",
       "    <tr>\n",
       "      <th>2</th>\n",
       "      <td>3</td>\n",
       "      <td>1024.1</td>\n",
       "      <td>19.4</td>\n",
       "      <td>16.1</td>\n",
       "      <td>14.6</td>\n",
       "      <td>9.3</td>\n",
       "      <td>75.0</td>\n",
       "      <td>47.0</td>\n",
       "      <td>8.3</td>\n",
       "      <td>70.0</td>\n",
       "      <td>18.1</td>\n",
       "      <td>1</td>\n",
       "    </tr>\n",
       "    <tr>\n",
       "      <th>3</th>\n",
       "      <td>4</td>\n",
       "      <td>1013.4</td>\n",
       "      <td>18.1</td>\n",
       "      <td>17.8</td>\n",
       "      <td>16.9</td>\n",
       "      <td>16.8</td>\n",
       "      <td>95.0</td>\n",
       "      <td>95.0</td>\n",
       "      <td>0.0</td>\n",
       "      <td>60.0</td>\n",
       "      <td>35.6</td>\n",
       "      <td>1</td>\n",
       "    </tr>\n",
       "    <tr>\n",
       "      <th>4</th>\n",
       "      <td>5</td>\n",
       "      <td>1021.8</td>\n",
       "      <td>21.3</td>\n",
       "      <td>18.4</td>\n",
       "      <td>15.2</td>\n",
       "      <td>9.6</td>\n",
       "      <td>52.0</td>\n",
       "      <td>45.0</td>\n",
       "      <td>3.6</td>\n",
       "      <td>40.0</td>\n",
       "      <td>24.8</td>\n",
       "      <td>0</td>\n",
       "    </tr>\n",
       "  </tbody>\n",
       "</table>\n",
       "</div>"
      ],
      "text/plain": [
       "   day  pressure  maxtemp  temparature  mintemp  dewpoint  humidity  cloud  \\\n",
       "0    1    1017.4     21.2         20.6     19.9      19.4      87.0   88.0   \n",
       "1    2    1019.5     16.2         16.9     15.8      15.4      95.0   91.0   \n",
       "2    3    1024.1     19.4         16.1     14.6       9.3      75.0   47.0   \n",
       "3    4    1013.4     18.1         17.8     16.9      16.8      95.0   95.0   \n",
       "4    5    1021.8     21.3         18.4     15.2       9.6      52.0   45.0   \n",
       "\n",
       "   sunshine  winddirection  windspeed  rainfall  \n",
       "0       1.1           60.0       17.2         1  \n",
       "1       0.0           50.0       21.9         1  \n",
       "2       8.3           70.0       18.1         1  \n",
       "3       0.0           60.0       35.6         1  \n",
       "4       3.6           40.0       24.8         0  "
      ]
     },
     "metadata": {},
     "output_type": "display_data"
    }
   ],
   "source": [
    "df.drop(['id'], axis=1, inplace=True)\n",
    "display(df.head())"
   ]
  },
  {
   "cell_type": "markdown",
   "id": "6c2769b5",
   "metadata": {
    "papermill": {
     "duration": 0.007104,
     "end_time": "2025-03-18T14:37:26.289679",
     "exception": false,
     "start_time": "2025-03-18T14:37:26.282575",
     "status": "completed"
    },
    "tags": []
   },
   "source": [
    "Check correlations"
   ]
  },
  {
   "cell_type": "code",
   "execution_count": 5,
   "id": "de3ef85f",
   "metadata": {
    "execution": {
     "iopub.execute_input": "2025-03-18T14:37:26.305929Z",
     "iopub.status.busy": "2025-03-18T14:37:26.305588Z",
     "iopub.status.idle": "2025-03-18T14:37:28.629841Z",
     "shell.execute_reply": "2025-03-18T14:37:28.628778Z"
    },
    "papermill": {
     "duration": 2.335603,
     "end_time": "2025-03-18T14:37:28.632770",
     "exception": false,
     "start_time": "2025-03-18T14:37:26.297167",
     "status": "completed"
    },
    "tags": []
   },
   "outputs": [
    {
     "data": {
      "image/png": "[encoded data removed]",
      "text/plain": [
       "<Figure size 800x600 with 2 Axes>"
      ]
     },
     "metadata": {},
     "output_type": "display_data"
    }
   ],
   "source": [
    "import matplotlib.pyplot as plt\n",
    "import seaborn as sns\n",
    "\n",
    "corr_matrix = df.corr()\n",
    "plt.figure(figsize=(8,6))\n",
    "sns.heatmap(corr_matrix, annot=True, fmt='.2f')\n",
    "plt.show()"
   ]
  },
  {
   "cell_type": "code",
   "execution_count": 6,
   "id": "7bcab9fb",
   "metadata": {
    "execution": {
     "iopub.execute_input": "2025-03-18T14:37:28.654840Z",
     "iopub.status.busy": "2025-03-18T14:37:28.654369Z",
     "iopub.status.idle": "2025-03-18T14:37:28.671164Z",
     "shell.execute_reply": "2025-03-18T14:37:28.670099Z"
    },
    "papermill": {
     "duration": 0.029372,
     "end_time": "2025-03-18T14:37:28.672763",
     "exception": false,
     "start_time": "2025-03-18T14:37:28.643391",
     "status": "completed"
    },
    "tags": []
   },
   "outputs": [
    {
     "data": {
      "text/html": [
       "<div>\n",
       "<style scoped>\n",
       "    .dataframe tbody tr th:only-of-type {\n",
       "        vertical-align: middle;\n",
       "    }\n",
       "\n",
       "    .dataframe tbody tr th {\n",
       "        vertical-align: top;\n",
       "    }\n",
       "\n",
       "    .dataframe thead th {\n",
       "        text-align: right;\n",
       "    }\n",
       "</style>\n",
       "<table border=\"1\" class=\"dataframe\">\n",
       "  <thead>\n",
       "    <tr style=\"text-align: right;\">\n",
       "      <th></th>\n",
       "      <th>day</th>\n",
       "      <th>pressure</th>\n",
       "      <th>maxtemp</th>\n",
       "      <th>temparature</th>\n",
       "      <th>mintemp</th>\n",
       "      <th>dewpoint</th>\n",
       "      <th>humidity</th>\n",
       "      <th>cloud</th>\n",
       "      <th>sunshine</th>\n",
       "      <th>winddirection</th>\n",
       "      <th>windspeed</th>\n",
       "      <th>rainfall</th>\n",
       "    </tr>\n",
       "  </thead>\n",
       "  <tbody>\n",
       "    <tr>\n",
       "      <th>0</th>\n",
       "      <td>1</td>\n",
       "      <td>1017.4</td>\n",
       "      <td>21.2</td>\n",
       "      <td>20.6</td>\n",
       "      <td>19.9</td>\n",
       "      <td>19.4</td>\n",
       "      <td>87.0</td>\n",
       "      <td>88.0</td>\n",
       "      <td>1.1</td>\n",
       "      <td>60.0</td>\n",
       "      <td>17.2</td>\n",
       "      <td>1</td>\n",
       "    </tr>\n",
       "    <tr>\n",
       "      <th>1</th>\n",
       "      <td>2</td>\n",
       "      <td>1019.5</td>\n",
       "      <td>16.2</td>\n",
       "      <td>16.9</td>\n",
       "      <td>15.8</td>\n",
       "      <td>15.4</td>\n",
       "      <td>95.0</td>\n",
       "      <td>91.0</td>\n",
       "      <td>0.0</td>\n",
       "      <td>50.0</td>\n",
       "      <td>21.9</td>\n",
       "      <td>1</td>\n",
       "    </tr>\n",
       "    <tr>\n",
       "      <th>2</th>\n",
       "      <td>3</td>\n",
       "      <td>1024.1</td>\n",
       "      <td>19.4</td>\n",
       "      <td>16.1</td>\n",
       "      <td>14.6</td>\n",
       "      <td>9.3</td>\n",
       "      <td>75.0</td>\n",
       "      <td>47.0</td>\n",
       "      <td>8.3</td>\n",
       "      <td>70.0</td>\n",
       "      <td>18.1</td>\n",
       "      <td>1</td>\n",
       "    </tr>\n",
       "    <tr>\n",
       "      <th>3</th>\n",
       "      <td>4</td>\n",
       "      <td>1013.4</td>\n",
       "      <td>18.1</td>\n",
       "      <td>17.8</td>\n",
       "      <td>16.9</td>\n",
       "      <td>16.8</td>\n",
       "      <td>95.0</td>\n",
       "      <td>95.0</td>\n",
       "      <td>0.0</td>\n",
       "      <td>60.0</td>\n",
       "      <td>35.6</td>\n",
       "      <td>1</td>\n",
       "    </tr>\n",
       "    <tr>\n",
       "      <th>4</th>\n",
       "      <td>5</td>\n",
       "      <td>1021.8</td>\n",
       "      <td>21.3</td>\n",
       "      <td>18.4</td>\n",
       "      <td>15.2</td>\n",
       "      <td>9.6</td>\n",
       "      <td>52.0</td>\n",
       "      <td>45.0</td>\n",
       "      <td>3.6</td>\n",
       "      <td>40.0</td>\n",
       "      <td>24.8</td>\n",
       "      <td>0</td>\n",
       "    </tr>\n",
       "  </tbody>\n",
       "</table>\n",
       "</div>"
      ],
      "text/plain": [
       "   day  pressure  maxtemp  temparature  mintemp  dewpoint  humidity  cloud  \\\n",
       "0    1    1017.4     21.2         20.6     19.9      19.4      87.0   88.0   \n",
       "1    2    1019.5     16.2         16.9     15.8      15.4      95.0   91.0   \n",
       "2    3    1024.1     19.4         16.1     14.6       9.3      75.0   47.0   \n",
       "3    4    1013.4     18.1         17.8     16.9      16.8      95.0   95.0   \n",
       "4    5    1021.8     21.3         18.4     15.2       9.6      52.0   45.0   \n",
       "\n",
       "   sunshine  winddirection  windspeed  rainfall  \n",
       "0       1.1           60.0       17.2         1  \n",
       "1       0.0           50.0       21.9         1  \n",
       "2       8.3           70.0       18.1         1  \n",
       "3       0.0           60.0       35.6         1  \n",
       "4       3.6           40.0       24.8         0  "
      ]
     },
     "execution_count": 6,
     "metadata": {},
     "output_type": "execute_result"
    }
   ],
   "source": [
    "df.head()"
   ]
  },
  {
   "cell_type": "code",
   "execution_count": 7,
   "id": "519f06a2",
   "metadata": {
    "execution": {
     "iopub.execute_input": "2025-03-18T14:37:28.695181Z",
     "iopub.status.busy": "2025-03-18T14:37:28.694781Z",
     "iopub.status.idle": "2025-03-18T14:37:28.712246Z",
     "shell.execute_reply": "2025-03-18T14:37:28.711175Z"
    },
    "papermill": {
     "duration": 0.030377,
     "end_time": "2025-03-18T14:37:28.713830",
     "exception": false,
     "start_time": "2025-03-18T14:37:28.683453",
     "status": "completed"
    },
    "tags": []
   },
   "outputs": [
    {
     "data": {
      "text/html": [
       "<div>\n",
       "<style scoped>\n",
       "    .dataframe tbody tr th:only-of-type {\n",
       "        vertical-align: middle;\n",
       "    }\n",
       "\n",
       "    .dataframe tbody tr th {\n",
       "        vertical-align: top;\n",
       "    }\n",
       "\n",
       "    .dataframe thead th {\n",
       "        text-align: right;\n",
       "    }\n",
       "</style>\n",
       "<table border=\"1\" class=\"dataframe\">\n",
       "  <thead>\n",
       "    <tr style=\"text-align: right;\">\n",
       "      <th></th>\n",
       "      <th>day</th>\n",
       "      <th>pressure</th>\n",
       "      <th>maxtemp</th>\n",
       "      <th>temparature</th>\n",
       "      <th>mintemp</th>\n",
       "      <th>dewpoint</th>\n",
       "      <th>humidity</th>\n",
       "      <th>cloud</th>\n",
       "      <th>sunshine</th>\n",
       "      <th>winddirection</th>\n",
       "      <th>windspeed</th>\n",
       "    </tr>\n",
       "  </thead>\n",
       "  <tbody>\n",
       "    <tr>\n",
       "      <th>0</th>\n",
       "      <td>1</td>\n",
       "      <td>1019.5</td>\n",
       "      <td>17.5</td>\n",
       "      <td>15.8</td>\n",
       "      <td>12.7</td>\n",
       "      <td>14.9</td>\n",
       "      <td>96.0</td>\n",
       "      <td>99.0</td>\n",
       "      <td>0.0</td>\n",
       "      <td>50.0</td>\n",
       "      <td>24.3</td>\n",
       "    </tr>\n",
       "    <tr>\n",
       "      <th>1</th>\n",
       "      <td>2</td>\n",
       "      <td>1016.5</td>\n",
       "      <td>17.5</td>\n",
       "      <td>16.5</td>\n",
       "      <td>15.8</td>\n",
       "      <td>15.1</td>\n",
       "      <td>97.0</td>\n",
       "      <td>99.0</td>\n",
       "      <td>0.0</td>\n",
       "      <td>50.0</td>\n",
       "      <td>35.3</td>\n",
       "    </tr>\n",
       "    <tr>\n",
       "      <th>2</th>\n",
       "      <td>3</td>\n",
       "      <td>1023.9</td>\n",
       "      <td>11.2</td>\n",
       "      <td>10.4</td>\n",
       "      <td>9.4</td>\n",
       "      <td>8.9</td>\n",
       "      <td>86.0</td>\n",
       "      <td>96.0</td>\n",
       "      <td>0.0</td>\n",
       "      <td>40.0</td>\n",
       "      <td>16.9</td>\n",
       "    </tr>\n",
       "    <tr>\n",
       "      <th>3</th>\n",
       "      <td>4</td>\n",
       "      <td>1022.9</td>\n",
       "      <td>20.6</td>\n",
       "      <td>17.3</td>\n",
       "      <td>15.2</td>\n",
       "      <td>9.5</td>\n",
       "      <td>75.0</td>\n",
       "      <td>45.0</td>\n",
       "      <td>7.1</td>\n",
       "      <td>20.0</td>\n",
       "      <td>50.6</td>\n",
       "    </tr>\n",
       "    <tr>\n",
       "      <th>4</th>\n",
       "      <td>5</td>\n",
       "      <td>1022.2</td>\n",
       "      <td>16.1</td>\n",
       "      <td>13.8</td>\n",
       "      <td>6.4</td>\n",
       "      <td>4.3</td>\n",
       "      <td>68.0</td>\n",
       "      <td>49.0</td>\n",
       "      <td>9.2</td>\n",
       "      <td>20.0</td>\n",
       "      <td>19.4</td>\n",
       "    </tr>\n",
       "  </tbody>\n",
       "</table>\n",
       "</div>"
      ],
      "text/plain": [
       "   day  pressure  maxtemp  temparature  mintemp  dewpoint  humidity  cloud  \\\n",
       "0    1    1019.5     17.5         15.8     12.7      14.9      96.0   99.0   \n",
       "1    2    1016.5     17.5         16.5     15.8      15.1      97.0   99.0   \n",
       "2    3    1023.9     11.2         10.4      9.4       8.9      86.0   96.0   \n",
       "3    4    1022.9     20.6         17.3     15.2       9.5      75.0   45.0   \n",
       "4    5    1022.2     16.1         13.8      6.4       4.3      68.0   49.0   \n",
       "\n",
       "   sunshine  winddirection  windspeed  \n",
       "0       0.0           50.0       24.3  \n",
       "1       0.0           50.0       35.3  \n",
       "2       0.0           40.0       16.9  \n",
       "3       7.1           20.0       50.6  \n",
       "4       9.2           20.0       19.4  "
      ]
     },
     "execution_count": 7,
     "metadata": {},
     "output_type": "execute_result"
    }
   ],
   "source": [
    "test.drop(['id'], axis=1, inplace=True)\n",
    "test.head()"
   ]
  },
  {
   "cell_type": "markdown",
   "id": "3819bd0e",
   "metadata": {
    "papermill": {
     "duration": 0.010339,
     "end_time": "2025-03-18T14:37:28.735041",
     "exception": false,
     "start_time": "2025-03-18T14:37:28.724702",
     "status": "completed"
    },
    "tags": []
   },
   "source": [
    "We want days to represnet a cyclic pattern. Currently, 365 and 1 will be interpreted to be far apart. Thus, we use sine and cosine to transform days into a cyclic feature."
   ]
  },
  {
   "cell_type": "code",
   "execution_count": 8,
   "id": "b0240183",
   "metadata": {
    "execution": {
     "iopub.execute_input": "2025-03-18T14:37:28.758045Z",
     "iopub.status.busy": "2025-03-18T14:37:28.757656Z",
     "iopub.status.idle": "2025-03-18T14:37:28.762393Z",
     "shell.execute_reply": "2025-03-18T14:37:28.761351Z"
    },
    "papermill": {
     "duration": 0.018232,
     "end_time": "2025-03-18T14:37:28.764074",
     "exception": false,
     "start_time": "2025-03-18T14:37:28.745842",
     "status": "completed"
    },
    "tags": []
   },
   "outputs": [],
   "source": [
    "def cyclic_day(df):\n",
    "    df['day_sin'] = np.sin(360 * df['day'] / 365)\n",
    "    df['day_cos'] = np.cos(360 * df['day'] / 365)\n",
    "    return df.drop(['day'], axis=1)"
   ]
  },
  {
   "cell_type": "code",
   "execution_count": 9,
   "id": "4ae7f7a1",
   "metadata": {
    "execution": {
     "iopub.execute_input": "2025-03-18T14:37:28.786801Z",
     "iopub.status.busy": "2025-03-18T14:37:28.786459Z",
     "iopub.status.idle": "2025-03-18T14:37:28.818239Z",
     "shell.execute_reply": "2025-03-18T14:37:28.817177Z"
    },
    "papermill": {
     "duration": 0.04477,
     "end_time": "2025-03-18T14:37:28.819854",
     "exception": false,
     "start_time": "2025-03-18T14:37:28.775084",
     "status": "completed"
    },
    "tags": []
   },
   "outputs": [
    {
     "data": {
      "text/html": [
       "<div>\n",
       "<style scoped>\n",
       "    .dataframe tbody tr th:only-of-type {\n",
       "        vertical-align: middle;\n",
       "    }\n",
       "\n",
       "    .dataframe tbody tr th {\n",
       "        vertical-align: top;\n",
       "    }\n",
       "\n",
       "    .dataframe thead th {\n",
       "        text-align: right;\n",
       "    }\n",
       "</style>\n",
       "<table border=\"1\" class=\"dataframe\">\n",
       "  <thead>\n",
       "    <tr style=\"text-align: right;\">\n",
       "      <th></th>\n",
       "      <th>pressure</th>\n",
       "      <th>maxtemp</th>\n",
       "      <th>temparature</th>\n",
       "      <th>mintemp</th>\n",
       "      <th>dewpoint</th>\n",
       "      <th>humidity</th>\n",
       "      <th>cloud</th>\n",
       "      <th>sunshine</th>\n",
       "      <th>windspeed</th>\n",
       "      <th>rainfall</th>\n",
       "      <th>day_sin</th>\n",
       "      <th>day_cos</th>\n",
       "      <th>winddirection_sin</th>\n",
       "      <th>winddirection_cos</th>\n",
       "    </tr>\n",
       "  </thead>\n",
       "  <tbody>\n",
       "    <tr>\n",
       "      <th>0</th>\n",
       "      <td>1017.4</td>\n",
       "      <td>21.2</td>\n",
       "      <td>20.6</td>\n",
       "      <td>19.9</td>\n",
       "      <td>19.4</td>\n",
       "      <td>87.0</td>\n",
       "      <td>88.0</td>\n",
       "      <td>1.1</td>\n",
       "      <td>17.2</td>\n",
       "      <td>1</td>\n",
       "      <td>0.833991</td>\n",
       "      <td>0.551778</td>\n",
       "      <td>-0.304811</td>\n",
       "      <td>-0.952413</td>\n",
       "    </tr>\n",
       "    <tr>\n",
       "      <th>1</th>\n",
       "      <td>1019.5</td>\n",
       "      <td>16.2</td>\n",
       "      <td>16.9</td>\n",
       "      <td>15.8</td>\n",
       "      <td>15.4</td>\n",
       "      <td>95.0</td>\n",
       "      <td>91.0</td>\n",
       "      <td>0.0</td>\n",
       "      <td>21.9</td>\n",
       "      <td>1</td>\n",
       "      <td>0.920356</td>\n",
       "      <td>-0.391082</td>\n",
       "      <td>-0.262375</td>\n",
       "      <td>0.964966</td>\n",
       "    </tr>\n",
       "    <tr>\n",
       "      <th>2</th>\n",
       "      <td>1024.1</td>\n",
       "      <td>19.4</td>\n",
       "      <td>16.1</td>\n",
       "      <td>14.6</td>\n",
       "      <td>9.3</td>\n",
       "      <td>75.0</td>\n",
       "      <td>47.0</td>\n",
       "      <td>8.3</td>\n",
       "      <td>18.1</td>\n",
       "      <td>1</td>\n",
       "      <td>0.181674</td>\n",
       "      <td>-0.983359</td>\n",
       "      <td>0.773891</td>\n",
       "      <td>0.633319</td>\n",
       "    </tr>\n",
       "    <tr>\n",
       "      <th>3</th>\n",
       "      <td>1013.4</td>\n",
       "      <td>18.1</td>\n",
       "      <td>17.8</td>\n",
       "      <td>16.9</td>\n",
       "      <td>16.8</td>\n",
       "      <td>95.0</td>\n",
       "      <td>95.0</td>\n",
       "      <td>0.0</td>\n",
       "      <td>35.6</td>\n",
       "      <td>1</td>\n",
       "      <td>-0.719868</td>\n",
       "      <td>-0.694110</td>\n",
       "      <td>-0.304811</td>\n",
       "      <td>-0.952413</td>\n",
       "    </tr>\n",
       "    <tr>\n",
       "      <th>4</th>\n",
       "      <td>1021.8</td>\n",
       "      <td>21.3</td>\n",
       "      <td>18.4</td>\n",
       "      <td>15.2</td>\n",
       "      <td>9.6</td>\n",
       "      <td>52.0</td>\n",
       "      <td>45.0</td>\n",
       "      <td>3.6</td>\n",
       "      <td>24.8</td>\n",
       "      <td>0</td>\n",
       "      <td>-0.976090</td>\n",
       "      <td>0.217369</td>\n",
       "      <td>0.745113</td>\n",
       "      <td>-0.666938</td>\n",
       "    </tr>\n",
       "  </tbody>\n",
       "</table>\n",
       "</div>"
      ],
      "text/plain": [
       "   pressure  maxtemp  temparature  mintemp  dewpoint  humidity  cloud  \\\n",
       "0    1017.4     21.2         20.6     19.9      19.4      87.0   88.0   \n",
       "1    1019.5     16.2         16.9     15.8      15.4      95.0   91.0   \n",
       "2    1024.1     19.4         16.1     14.6       9.3      75.0   47.0   \n",
       "3    1013.4     18.1         17.8     16.9      16.8      95.0   95.0   \n",
       "4    1021.8     21.3         18.4     15.2       9.6      52.0   45.0   \n",
       "\n",
       "   sunshine  windspeed  rainfall   day_sin   day_cos  winddirection_sin  \\\n",
       "0       1.1       17.2         1  0.833991  0.551778          -0.304811   \n",
       "1       0.0       21.9         1  0.920356 -0.391082          -0.262375   \n",
       "2       8.3       18.1         1  0.181674 -0.983359           0.773891   \n",
       "3       0.0       35.6         1 -0.719868 -0.694110          -0.304811   \n",
       "4       3.6       24.8         0 -0.976090  0.217369           0.745113   \n",
       "\n",
       "   winddirection_cos  \n",
       "0          -0.952413  \n",
       "1           0.964966  \n",
       "2           0.633319  \n",
       "3          -0.952413  \n",
       "4          -0.666938  "
      ]
     },
     "metadata": {},
     "output_type": "display_data"
    }
   ],
   "source": [
    "df = cyclic_day(df)\n",
    "df['winddirection_sin'] = np.sin(df['winddirection'])\n",
    "df['winddirection_cos'] = np.cos(df['winddirection'])\n",
    "df.drop(['winddirection'], axis=1, inplace=True)\n",
    "display(df.head())\n",
    "test = cyclic_day(test)"
   ]
  },
  {
   "cell_type": "markdown",
   "id": "31499467",
   "metadata": {
    "papermill": {
     "duration": 0.010496,
     "end_time": "2025-03-18T14:37:28.841340",
     "exception": false,
     "start_time": "2025-03-18T14:37:28.830844",
     "status": "completed"
    },
    "tags": []
   },
   "source": [
    "Scale the data"
   ]
  },
  {
   "cell_type": "code",
   "execution_count": 10,
   "id": "28d663bf",
   "metadata": {
    "execution": {
     "iopub.execute_input": "2025-03-18T14:37:28.864260Z",
     "iopub.status.busy": "2025-03-18T14:37:28.863835Z",
     "iopub.status.idle": "2025-03-18T14:37:29.048421Z",
     "shell.execute_reply": "2025-03-18T14:37:29.047308Z"
    },
    "papermill": {
     "duration": 0.198177,
     "end_time": "2025-03-18T14:37:29.050416",
     "exception": false,
     "start_time": "2025-03-18T14:37:28.852239",
     "status": "completed"
    },
    "tags": []
   },
   "outputs": [],
   "source": [
    "from sklearn.preprocessing import MinMaxScaler\n",
    "\n",
    "scaler = MinMaxScaler()\n",
    "X = scaler.fit_transform(df.drop(['rainfall'], axis=1))\n",
    "y = df['rainfall']"
   ]
  },
  {
   "cell_type": "code",
   "execution_count": 11,
   "id": "d88b7002",
   "metadata": {
    "execution": {
     "iopub.execute_input": "2025-03-18T14:37:29.073761Z",
     "iopub.status.busy": "2025-03-18T14:37:29.073410Z",
     "iopub.status.idle": "2025-03-18T14:37:29.086062Z",
     "shell.execute_reply": "2025-03-18T14:37:29.084882Z"
    },
    "papermill": {
     "duration": 0.026269,
     "end_time": "2025-03-18T14:37:29.087704",
     "exception": false,
     "start_time": "2025-03-18T14:37:29.061435",
     "status": "completed"
    },
    "tags": []
   },
   "outputs": [
    {
     "name": "stdout",
     "output_type": "stream",
     "text": [
      "(2190, 13)\n"
     ]
    },
    {
     "data": {
      "text/plain": [
       "array([[0.51685393, 0.421875  , 0.54771784, 0.61627907, 0.72962963,\n",
       "        0.81355932, 0.87755102, 0.09090909, 0.2323049 , 0.91699603,\n",
       "        0.77588997, 0.34789789, 0.02336108],\n",
       "       [0.5758427 , 0.2265625 , 0.39419087, 0.45736434, 0.58148148,\n",
       "        0.94915254, 0.90816327, 0.        , 0.31760436, 0.96017865,\n",
       "        0.30445939, 0.36914175, 0.98440226],\n",
       "       [0.70505618, 0.3515625 , 0.36099585, 0.41085271, 0.35555556,\n",
       "        0.61016949, 0.45918367, 0.68595041, 0.24863884, 0.59083738,\n",
       "        0.00832031, 0.88790868, 0.81817208],\n",
       "       [0.40449438, 0.30078125, 0.43153527, 0.5       , 0.63333333,\n",
       "        0.94915254, 0.94897959, 0.        , 0.56624319, 0.14006579,\n",
       "        0.15294469, 0.34789789, 0.02336108],\n",
       "       [0.64044944, 0.42578125, 0.45643154, 0.43410853, 0.36666667,\n",
       "        0.22033898, 0.43877551, 0.29752066, 0.37023593, 0.01195515,\n",
       "        0.60868493, 0.8735023 , 0.16644868]])"
      ]
     },
     "metadata": {},
     "output_type": "display_data"
    },
    {
     "name": "stdout",
     "output_type": "stream",
     "text": [
      "(2190,)\n"
     ]
    },
    {
     "data": {
      "text/plain": [
       "0    1\n",
       "1    1\n",
       "2    1\n",
       "3    1\n",
       "4    0\n",
       "Name: rainfall, dtype: int64"
      ]
     },
     "metadata": {},
     "output_type": "display_data"
    }
   ],
   "source": [
    "print(X.shape)\n",
    "display(X[:5])\n",
    "\n",
    "print(y.shape)\n",
    "display(y[:5])"
   ]
  },
  {
   "cell_type": "code",
   "execution_count": 12,
   "id": "3b84b95b",
   "metadata": {
    "execution": {
     "iopub.execute_input": "2025-03-18T14:37:29.111629Z",
     "iopub.status.busy": "2025-03-18T14:37:29.111243Z",
     "iopub.status.idle": "2025-03-18T14:37:29.265937Z",
     "shell.execute_reply": "2025-03-18T14:37:29.264805Z"
    },
    "papermill": {
     "duration": 0.168843,
     "end_time": "2025-03-18T14:37:29.267944",
     "exception": false,
     "start_time": "2025-03-18T14:37:29.099101",
     "status": "completed"
    },
    "tags": []
   },
   "outputs": [],
   "source": [
    "from sklearn.model_selection import train_test_split\n",
    "\n",
    "X_train, X_test, y_train, y_test = train_test_split(X, y, test_size=0.3, random_state=42)"
   ]
  },
  {
   "cell_type": "code",
   "execution_count": 13,
   "id": "9fd7b827",
   "metadata": {
    "execution": {
     "iopub.execute_input": "2025-03-18T14:37:29.291946Z",
     "iopub.status.busy": "2025-03-18T14:37:29.291579Z",
     "iopub.status.idle": "2025-03-18T14:37:29.296460Z",
     "shell.execute_reply": "2025-03-18T14:37:29.295334Z"
    },
    "papermill": {
     "duration": 0.018961,
     "end_time": "2025-03-18T14:37:29.298351",
     "exception": false,
     "start_time": "2025-03-18T14:37:29.279390",
     "status": "completed"
    },
    "tags": []
   },
   "outputs": [
    {
     "name": "stdout",
     "output_type": "stream",
     "text": [
      "(1533, 13)\n"
     ]
    }
   ],
   "source": [
    "print(X_train.shape)"
   ]
  },
  {
   "cell_type": "code",
   "execution_count": 14,
   "id": "78fd42d8",
   "metadata": {
    "execution": {
     "iopub.execute_input": "2025-03-18T14:37:29.322343Z",
     "iopub.status.busy": "2025-03-18T14:37:29.321936Z",
     "iopub.status.idle": "2025-03-18T14:37:44.088915Z",
     "shell.execute_reply": "2025-03-18T14:37:44.087913Z"
    },
    "papermill": {
     "duration": 14.781229,
     "end_time": "2025-03-18T14:37:44.090893",
     "exception": false,
     "start_time": "2025-03-18T14:37:29.309664",
     "status": "completed"
    },
    "tags": []
   },
   "outputs": [],
   "source": [
    "import tensorflow as tf"
   ]
  },
  {
   "cell_type": "markdown",
   "id": "8c3cf283",
   "metadata": {
    "papermill": {
     "duration": 0.010964,
     "end_time": "2025-03-18T14:37:44.113396",
     "exception": false,
     "start_time": "2025-03-18T14:37:44.102432",
     "status": "completed"
    },
    "tags": []
   },
   "source": [
    "First, let's try a standard feed-forward neural network"
   ]
  },
  {
   "cell_type": "code",
   "execution_count": 15,
   "id": "42d6ed1f",
   "metadata": {
    "execution": {
     "iopub.execute_input": "2025-03-18T14:37:44.137658Z",
     "iopub.status.busy": "2025-03-18T14:37:44.137023Z",
     "iopub.status.idle": "2025-03-18T14:37:44.143317Z",
     "shell.execute_reply": "2025-03-18T14:37:44.142395Z"
    },
    "papermill": {
     "duration": 0.020017,
     "end_time": "2025-03-18T14:37:44.144904",
     "exception": false,
     "start_time": "2025-03-18T14:37:44.124887",
     "status": "completed"
    },
    "tags": []
   },
   "outputs": [],
   "source": [
    "def create_model():\n",
    "    model = tf.keras.Sequential([\n",
    "        tf.keras.layers.InputLayer(input_shape=(X_train.shape[1],)),\n",
    "\n",
    "        tf.keras.layers.BatchNormalization(),\n",
    "        tf.keras.layers.Dense(128, activation='relu'),\n",
    "        \n",
    "        tf.keras.layers.BatchNormalization(),\n",
    "        tf.keras.layers.Dropout(0.5),\n",
    "        tf.keras.layers.Dense(64, activation='relu'),\n",
    "        \n",
    "        tf.keras.layers.BatchNormalization(),\n",
    "        tf.keras.layers.Dropout(0.5),\n",
    "        tf.keras.layers.Dense(32, activation='relu'),\n",
    "        \n",
    "        tf.keras.layers.BatchNormalization(),\n",
    "        tf.keras.layers.Dense(1, activation='sigmoid')\n",
    "    ])\n",
    "\n",
    "    model.compile(\n",
    "        optimizer='adam', \n",
    "        loss='binary_crossentropy', \n",
    "        metrics=['accuracy']\n",
    "    )\n",
    "    \n",
    "    return model"
   ]
  },
  {
   "cell_type": "code",
   "execution_count": 16,
   "id": "94ead476",
   "metadata": {
    "execution": {
     "iopub.execute_input": "2025-03-18T14:37:44.168951Z",
     "iopub.status.busy": "2025-03-18T14:37:44.168569Z",
     "iopub.status.idle": "2025-03-18T14:37:53.897601Z",
     "shell.execute_reply": "2025-03-18T14:37:53.896610Z"
    },
    "papermill": {
     "duration": 9.743231,
     "end_time": "2025-03-18T14:37:53.899666",
     "exception": false,
     "start_time": "2025-03-18T14:37:44.156435",
     "status": "completed"
    },
    "tags": []
   },
   "outputs": [
    {
     "name": "stderr",
     "output_type": "stream",
     "text": [
      "/usr/local/lib/python3.10/dist-packages/keras/src/layers/core/input_layer.py:26: UserWarning: Argument `input_shape` is deprecated. Use `shape` instead.\n",
      "  warnings.warn(\n"
     ]
    },
    {
     "name": "stdout",
     "output_type": "stream",
     "text": [
      "Epoch 1/25\n",
      "\u001b[1m77/77\u001b[0m \u001b[32m━━━━━━━━━━━━━━━━━━━━\u001b[0m\u001b[37m\u001b[0m \u001b[1m3s\u001b[0m 6ms/step - accuracy: 0.5323 - loss: 0.8254 - val_accuracy: 0.7362 - val_loss: 0.5675\n",
      "Epoch 2/25\n",
      "\u001b[1m77/77\u001b[0m \u001b[32m━━━━━━━━━━━━━━━━━━━━\u001b[0m\u001b[37m\u001b[0m \u001b[1m0s\u001b[0m 3ms/step - accuracy: 0.8031 - loss: 0.4674 - val_accuracy: 0.7557 - val_loss: 0.4929\n",
      "Epoch 3/25\n",
      "\u001b[1m77/77\u001b[0m \u001b[32m━━━━━━━━━━━━━━━━━━━━\u001b[0m\u001b[37m\u001b[0m \u001b[1m0s\u001b[0m 3ms/step - accuracy: 0.8193 - loss: 0.4420 - val_accuracy: 0.7980 - val_loss: 0.4445\n",
      "Epoch 4/25\n",
      "\u001b[1m77/77\u001b[0m \u001b[32m━━━━━━━━━━━━━━━━━━━━\u001b[0m\u001b[37m\u001b[0m \u001b[1m0s\u001b[0m 3ms/step - accuracy: 0.8681 - loss: 0.3793 - val_accuracy: 0.8339 - val_loss: 0.4040\n",
      "Epoch 5/25\n",
      "\u001b[1m77/77\u001b[0m \u001b[32m━━━━━━━━━━━━━━━━━━━━\u001b[0m\u001b[37m\u001b[0m \u001b[1m0s\u001b[0m 3ms/step - accuracy: 0.8419 - loss: 0.3845 - val_accuracy: 0.8404 - val_loss: 0.3880\n",
      "Epoch 6/25\n",
      "\u001b[1m77/77\u001b[0m \u001b[32m━━━━━━━━━━━━━━━━━━━━\u001b[0m\u001b[37m\u001b[0m \u001b[1m0s\u001b[0m 3ms/step - accuracy: 0.8556 - loss: 0.3561 - val_accuracy: 0.8404 - val_loss: 0.3953\n",
      "Epoch 7/25\n",
      "\u001b[1m77/77\u001b[0m \u001b[32m━━━━━━━━━━━━━━━━━━━━\u001b[0m\u001b[37m\u001b[0m \u001b[1m0s\u001b[0m 3ms/step - accuracy: 0.8252 - loss: 0.4044 - val_accuracy: 0.8404 - val_loss: 0.3957\n",
      "Epoch 8/25\n",
      "\u001b[1m77/77\u001b[0m \u001b[32m━━━━━━━━━━━━━━━━━━━━\u001b[0m\u001b[37m\u001b[0m \u001b[1m0s\u001b[0m 3ms/step - accuracy: 0.8501 - loss: 0.3689 - val_accuracy: 0.8502 - val_loss: 0.3966\n",
      "Epoch 9/25\n",
      "\u001b[1m77/77\u001b[0m \u001b[32m━━━━━━━━━━━━━━━━━━━━\u001b[0m\u001b[37m\u001b[0m \u001b[1m0s\u001b[0m 3ms/step - accuracy: 0.8343 - loss: 0.3746 - val_accuracy: 0.8436 - val_loss: 0.4029\n",
      "Epoch 10/25\n",
      "\u001b[1m77/77\u001b[0m \u001b[32m━━━━━━━━━━━━━━━━━━━━\u001b[0m\u001b[37m\u001b[0m \u001b[1m0s\u001b[0m 3ms/step - accuracy: 0.8650 - loss: 0.3413 - val_accuracy: 0.8469 - val_loss: 0.4051\n",
      "Epoch 11/25\n",
      "\u001b[1m77/77\u001b[0m \u001b[32m━━━━━━━━━━━━━━━━━━━━\u001b[0m\u001b[37m\u001b[0m \u001b[1m0s\u001b[0m 3ms/step - accuracy: 0.8725 - loss: 0.3501 - val_accuracy: 0.8436 - val_loss: 0.4074\n",
      "Epoch 12/25\n",
      "\u001b[1m77/77\u001b[0m \u001b[32m━━━━━━━━━━━━━━━━━━━━\u001b[0m\u001b[37m\u001b[0m \u001b[1m0s\u001b[0m 3ms/step - accuracy: 0.8790 - loss: 0.3153 - val_accuracy: 0.8469 - val_loss: 0.4004\n",
      "Epoch 13/25\n",
      "\u001b[1m77/77\u001b[0m \u001b[32m━━━━━━━━━━━━━━━━━━━━\u001b[0m\u001b[37m\u001b[0m \u001b[1m0s\u001b[0m 3ms/step - accuracy: 0.8518 - loss: 0.3434 - val_accuracy: 0.8469 - val_loss: 0.4028\n",
      "Epoch 14/25\n",
      "\u001b[1m77/77\u001b[0m \u001b[32m━━━━━━━━━━━━━━━━━━━━\u001b[0m\u001b[37m\u001b[0m \u001b[1m0s\u001b[0m 3ms/step - accuracy: 0.8486 - loss: 0.3595 - val_accuracy: 0.8404 - val_loss: 0.3998\n",
      "Epoch 15/25\n",
      "\u001b[1m77/77\u001b[0m \u001b[32m━━━━━━━━━━━━━━━━━━━━\u001b[0m\u001b[37m\u001b[0m \u001b[1m0s\u001b[0m 3ms/step - accuracy: 0.8596 - loss: 0.3388 - val_accuracy: 0.8371 - val_loss: 0.4007\n",
      "Epoch 16/25\n",
      "\u001b[1m77/77\u001b[0m \u001b[32m━━━━━━━━━━━━━━━━━━━━\u001b[0m\u001b[37m\u001b[0m \u001b[1m0s\u001b[0m 3ms/step - accuracy: 0.8578 - loss: 0.3206 - val_accuracy: 0.8404 - val_loss: 0.4034\n",
      "Epoch 17/25\n",
      "\u001b[1m77/77\u001b[0m \u001b[32m━━━━━━━━━━━━━━━━━━━━\u001b[0m\u001b[37m\u001b[0m \u001b[1m0s\u001b[0m 3ms/step - accuracy: 0.8656 - loss: 0.3332 - val_accuracy: 0.8502 - val_loss: 0.3980\n",
      "Epoch 18/25\n",
      "\u001b[1m77/77\u001b[0m \u001b[32m━━━━━━━━━━━━━━━━━━━━\u001b[0m\u001b[37m\u001b[0m \u001b[1m0s\u001b[0m 3ms/step - accuracy: 0.8715 - loss: 0.3220 - val_accuracy: 0.8404 - val_loss: 0.4049\n",
      "Epoch 19/25\n",
      "\u001b[1m77/77\u001b[0m \u001b[32m━━━━━━━━━━━━━━━━━━━━\u001b[0m\u001b[37m\u001b[0m \u001b[1m0s\u001b[0m 3ms/step - accuracy: 0.8818 - loss: 0.3045 - val_accuracy: 0.8436 - val_loss: 0.4030\n",
      "Epoch 20/25\n",
      "\u001b[1m77/77\u001b[0m \u001b[32m━━━━━━━━━━━━━━━━━━━━\u001b[0m\u001b[37m\u001b[0m \u001b[1m0s\u001b[0m 3ms/step - accuracy: 0.8602 - loss: 0.3306 - val_accuracy: 0.8469 - val_loss: 0.4024\n",
      "Epoch 21/25\n",
      "\u001b[1m77/77\u001b[0m \u001b[32m━━━━━━━━━━━━━━━━━━━━\u001b[0m\u001b[37m\u001b[0m \u001b[1m0s\u001b[0m 3ms/step - accuracy: 0.8622 - loss: 0.3332 - val_accuracy: 0.8371 - val_loss: 0.4103\n",
      "Epoch 22/25\n",
      "\u001b[1m77/77\u001b[0m \u001b[32m━━━━━━━━━━━━━━━━━━━━\u001b[0m\u001b[37m\u001b[0m \u001b[1m0s\u001b[0m 3ms/step - accuracy: 0.8726 - loss: 0.3170 - val_accuracy: 0.8436 - val_loss: 0.4039\n",
      "Epoch 23/25\n",
      "\u001b[1m77/77\u001b[0m \u001b[32m━━━━━━━━━━━━━━━━━━━━\u001b[0m\u001b[37m\u001b[0m \u001b[1m0s\u001b[0m 3ms/step - accuracy: 0.8743 - loss: 0.3138 - val_accuracy: 0.8404 - val_loss: 0.4036\n",
      "Epoch 24/25\n",
      "\u001b[1m77/77\u001b[0m \u001b[32m━━━━━━━━━━━━━━━━━━━━\u001b[0m\u001b[37m\u001b[0m \u001b[1m0s\u001b[0m 3ms/step - accuracy: 0.8560 - loss: 0.3427 - val_accuracy: 0.8502 - val_loss: 0.4050\n",
      "Epoch 25/25\n",
      "\u001b[1m77/77\u001b[0m \u001b[32m━━━━━━━━━━━━━━━━━━━━\u001b[0m\u001b[37m\u001b[0m \u001b[1m0s\u001b[0m 3ms/step - accuracy: 0.8597 - loss: 0.3260 - val_accuracy: 0.8436 - val_loss: 0.4025\n"
     ]
    }
   ],
   "source": [
    "model1 = create_model()\n",
    "\n",
    "history = model1.fit(\n",
    "    X_train, y_train, \n",
    "    validation_split=0.2, \n",
    "    epochs=25, \n",
    "    batch_size=16\n",
    ")"
   ]
  },
  {
   "cell_type": "code",
   "execution_count": 17,
   "id": "7e50815d",
   "metadata": {
    "execution": {
     "iopub.execute_input": "2025-03-18T14:37:53.942469Z",
     "iopub.status.busy": "2025-03-18T14:37:53.942109Z",
     "iopub.status.idle": "2025-03-18T14:37:54.047804Z",
     "shell.execute_reply": "2025-03-18T14:37:54.046890Z"
    },
    "papermill": {
     "duration": 0.128318,
     "end_time": "2025-03-18T14:37:54.049470",
     "exception": false,
     "start_time": "2025-03-18T14:37:53.921152",
     "status": "completed"
    },
    "tags": []
   },
   "outputs": [
    {
     "name": "stdout",
     "output_type": "stream",
     "text": [
      "\u001b[1m21/21\u001b[0m \u001b[32m━━━━━━━━━━━━━━━━━━━━\u001b[0m\u001b[37m\u001b[0m \u001b[1m0s\u001b[0m 1ms/step - accuracy: 0.8603 - loss: 0.3820 \n"
     ]
    }
   ],
   "source": [
    "test_loss, test_accuracy = model1.evaluate(X_test, y_test)"
   ]
  },
  {
   "cell_type": "code",
   "execution_count": 18,
   "id": "c2fe5a06",
   "metadata": {
    "execution": {
     "iopub.execute_input": "2025-03-18T14:37:54.090799Z",
     "iopub.status.busy": "2025-03-18T14:37:54.090439Z",
     "iopub.status.idle": "2025-03-18T14:37:54.466567Z",
     "shell.execute_reply": "2025-03-18T14:37:54.465483Z"
    },
    "papermill": {
     "duration": 0.399031,
     "end_time": "2025-03-18T14:37:54.468432",
     "exception": false,
     "start_time": "2025-03-18T14:37:54.069401",
     "status": "completed"
    },
    "tags": []
   },
   "outputs": [
    {
     "data": {
      "image/png": "[encoded data removed]",
      "text/plain": [
       "<Figure size 640x480 with 1 Axes>"
      ]
     },
     "metadata": {},
     "output_type": "display_data"
    },
    {
     "data": {
      "image/png": "[encoded data removed]",
      "text/plain": [
       "<Figure size 640x480 with 1 Axes>"
      ]
     },
     "metadata": {},
     "output_type": "display_data"
    }
   ],
   "source": [
    "plt.plot(history.history['accuracy'], label='Training Accuracy')\n",
    "plt.plot(history.history['val_accuracy'], label='Validation Accuracy')\n",
    "plt.xlabel('Epochs')\n",
    "plt.ylabel('Accuracy')\n",
    "plt.legend()\n",
    "plt.show()\n",
    "\n",
    "\n",
    "plt.plot(history.history['loss'], label='Training Loss')\n",
    "plt.plot(history.history['val_loss'], label='Validation Loss')\n",
    "plt.xlabel('Epochs')\n",
    "plt.ylabel('Loss')\n",
    "plt.legend()\n",
    "plt.show()"
   ]
  },
  {
   "cell_type": "markdown",
   "id": "8cef3703",
   "metadata": {
    "papermill": {
     "duration": 0.035435,
     "end_time": "2025-03-18T14:37:54.525745",
     "exception": false,
     "start_time": "2025-03-18T14:37:54.490310",
     "status": "completed"
    },
    "tags": []
   },
   "source": [
    "Let's see how a random forest performs"
   ]
  },
  {
   "cell_type": "code",
   "execution_count": 19,
   "id": "5f910c85",
   "metadata": {
    "execution": {
     "iopub.execute_input": "2025-03-18T14:37:54.569430Z",
     "iopub.status.busy": "2025-03-18T14:37:54.569043Z",
     "iopub.status.idle": "2025-03-18T14:37:54.574081Z",
     "shell.execute_reply": "2025-03-18T14:37:54.573001Z"
    },
    "papermill": {
     "duration": 0.028784,
     "end_time": "2025-03-18T14:37:54.575746",
     "exception": false,
     "start_time": "2025-03-18T14:37:54.546962",
     "status": "completed"
    },
    "tags": []
   },
   "outputs": [
    {
     "name": "stdout",
     "output_type": "stream",
     "text": [
      "(1533, 13)\n"
     ]
    }
   ],
   "source": [
    "print(X_train.shape)"
   ]
  },
  {
   "cell_type": "code",
   "execution_count": 20,
   "id": "7d3274a9",
   "metadata": {
    "execution": {
     "iopub.execute_input": "2025-03-18T14:37:54.619204Z",
     "iopub.status.busy": "2025-03-18T14:37:54.618795Z",
     "iopub.status.idle": "2025-03-18T14:37:55.808808Z",
     "shell.execute_reply": "2025-03-18T14:37:55.807903Z"
    },
    "papermill": {
     "duration": 1.213724,
     "end_time": "2025-03-18T14:37:55.810658",
     "exception": false,
     "start_time": "2025-03-18T14:37:54.596934",
     "status": "completed"
    },
    "tags": []
   },
   "outputs": [],
   "source": [
    "from sklearn.ensemble import RandomForestClassifier\n",
    "\n",
    "model2 = RandomForestClassifier(n_estimators=200, random_state=0)\n",
    "model2.fit(X_train, y_train)\n",
    "y_pred = model2.predict(X_test)"
   ]
  },
  {
   "cell_type": "code",
   "execution_count": 21,
   "id": "8be4c7c8",
   "metadata": {
    "execution": {
     "iopub.execute_input": "2025-03-18T14:37:55.855346Z",
     "iopub.status.busy": "2025-03-18T14:37:55.854925Z",
     "iopub.status.idle": "2025-03-18T14:37:55.891315Z",
     "shell.execute_reply": "2025-03-18T14:37:55.890024Z"
    },
    "papermill": {
     "duration": 0.060993,
     "end_time": "2025-03-18T14:37:55.893125",
     "exception": false,
     "start_time": "2025-03-18T14:37:55.832132",
     "status": "completed"
    },
    "tags": []
   },
   "outputs": [
    {
     "name": "stdout",
     "output_type": "stream",
     "text": [
      "accuracy: 0.8599695585996956\n",
      "f1 score: 0.8551398218408718\n"
     ]
    }
   ],
   "source": [
    "from sklearn.metrics import f1_score, accuracy_score\n",
    "\n",
    "accuracy = model2.score(X_test, y_test)\n",
    "f1 = f1_score(y_test, y_pred, average='weighted')\n",
    "print(f'accuracy: {accuracy}\\nf1 score: {f1}')"
   ]
  },
  {
   "cell_type": "markdown",
   "id": "a53a35fb",
   "metadata": {
    "papermill": {
     "duration": 0.021048,
     "end_time": "2025-03-18T14:37:55.935763",
     "exception": false,
     "start_time": "2025-03-18T14:37:55.914715",
     "status": "completed"
    },
    "tags": []
   },
   "source": [
    "Now, let's try including a 1D Convolutional layer to capture the sequential patterns"
   ]
  },
  {
   "cell_type": "code",
   "execution_count": 22,
   "id": "1d1472d9",
   "metadata": {
    "execution": {
     "iopub.execute_input": "2025-03-18T14:37:55.979890Z",
     "iopub.status.busy": "2025-03-18T14:37:55.979556Z",
     "iopub.status.idle": "2025-03-18T14:37:55.986496Z",
     "shell.execute_reply": "2025-03-18T14:37:55.985467Z"
    },
    "papermill": {
     "duration": 0.0311,
     "end_time": "2025-03-18T14:37:55.988264",
     "exception": false,
     "start_time": "2025-03-18T14:37:55.957164",
     "status": "completed"
    },
    "tags": []
   },
   "outputs": [],
   "source": [
    "import tensorflow as tf\n",
    "\n",
    "def create_1dconv_model():\n",
    "    model = tf.keras.Sequential([\n",
    "\n",
    "        tf.keras.layers.Conv1D(filters=128, kernel_size=3, activation='relu', padding='same'),\n",
    "        tf.keras.layers.BatchNormalization(),\n",
    "        tf.keras.layers.MaxPooling1D(pool_size=2),\n",
    "\n",
    "        tf.keras.layers.Conv1D(filters=64, kernel_size=3, activation='relu', padding='same'),\n",
    "        tf.keras.layers.BatchNormalization(),\n",
    "\n",
    "        tf.keras.layers.Flatten(),\n",
    "        # tf.keras.layers.Dropout(0.5),\n",
    "        \n",
    "        tf.keras.layers.Dense(512, activation='relu'),\n",
    "        tf.keras.layers.BatchNormalization(),\n",
    "        # tf.keras.layers.Dropout(0.5),\n",
    "        \n",
    "        tf.keras.layers.Dense(128, activation='relu'),\n",
    "        tf.keras.layers.BatchNormalization(),\n",
    "        # tf.keras.layers.Dropout(0.5),\n",
    "\n",
    "        tf.keras.layers.Dense(32, activation='relu'),\n",
    "        tf.keras.layers.BatchNormalization(),\n",
    "        \n",
    "        # Output Layer\n",
    "        tf.keras.layers.Dense(1, activation='sigmoid')\n",
    "    ])\n",
    "\n",
    "    # Compile the model\n",
    "    model.compile(\n",
    "        optimizer='adam',\n",
    "        loss='binary_crossentropy',\n",
    "        metrics=['accuracy']\n",
    "    )\n",
    "    \n",
    "    return model"
   ]
  },
  {
   "cell_type": "code",
   "execution_count": 23,
   "id": "dc1704b7",
   "metadata": {
    "execution": {
     "iopub.execute_input": "2025-03-18T14:37:56.034638Z",
     "iopub.status.busy": "2025-03-18T14:37:56.034296Z",
     "iopub.status.idle": "2025-03-18T14:37:56.039720Z",
     "shell.execute_reply": "2025-03-18T14:37:56.038624Z"
    },
    "papermill": {
     "duration": 0.031073,
     "end_time": "2025-03-18T14:37:56.041547",
     "exception": false,
     "start_time": "2025-03-18T14:37:56.010474",
     "status": "completed"
    },
    "tags": []
   },
   "outputs": [],
   "source": [
    "def reshape_temporal(X_train, y_train, time_steps):\n",
    "    y_train = np.array(y_train)\n",
    "    \n",
    "    X_new = []\n",
    "    y_new = []\n",
    "    for i in range(time_steps, len(X_train)):\n",
    "        X_new.append(X_train[i-time_steps:i])\n",
    "        y_new.append(y_train[i])\n",
    "    return np.array(X_new), np.array(y_new)"
   ]
  },
  {
   "cell_type": "code",
   "execution_count": 24,
   "id": "13105266",
   "metadata": {
    "execution": {
     "iopub.execute_input": "2025-03-18T14:37:56.086913Z",
     "iopub.status.busy": "2025-03-18T14:37:56.086540Z",
     "iopub.status.idle": "2025-03-18T14:37:56.110658Z",
     "shell.execute_reply": "2025-03-18T14:37:56.109376Z"
    },
    "papermill": {
     "duration": 0.048854,
     "end_time": "2025-03-18T14:37:56.112528",
     "exception": false,
     "start_time": "2025-03-18T14:37:56.063674",
     "status": "completed"
    },
    "tags": []
   },
   "outputs": [
    {
     "name": "stdout",
     "output_type": "stream",
     "text": [
      "(1530, 3, 13)\n"
     ]
    }
   ],
   "source": [
    "modelC = create_1dconv_model()\n",
    "X_train, y_train = reshape_temporal(X_train, y_train, 3)\n",
    "print(X_train.shape)"
   ]
  },
  {
   "cell_type": "code",
   "execution_count": 25,
   "id": "1b789fa2",
   "metadata": {
    "execution": {
     "iopub.execute_input": "2025-03-18T14:37:56.156429Z",
     "iopub.status.busy": "2025-03-18T14:37:56.156087Z",
     "iopub.status.idle": "2025-03-18T14:38:19.711361Z",
     "shell.execute_reply": "2025-03-18T14:38:19.710283Z"
    },
    "papermill": {
     "duration": 23.579496,
     "end_time": "2025-03-18T14:38:19.713378",
     "exception": false,
     "start_time": "2025-03-18T14:37:56.133882",
     "status": "completed"
    },
    "tags": []
   },
   "outputs": [
    {
     "name": "stdout",
     "output_type": "stream",
     "text": [
      "Epoch 1/50\n",
      "\u001b[1m77/77\u001b[0m \u001b[32m━━━━━━━━━━━━━━━━━━━━\u001b[0m\u001b[37m\u001b[0m \u001b[1m5s\u001b[0m 8ms/step - accuracy: 0.5267 - loss: 0.8503 - val_accuracy: 0.7353 - val_loss: 0.5836\n",
      "Epoch 2/50\n",
      "\u001b[1m77/77\u001b[0m \u001b[32m━━━━━━━━━━━━━━━━━━━━\u001b[0m\u001b[37m\u001b[0m \u001b[1m0s\u001b[0m 4ms/step - accuracy: 0.7010 - loss: 0.5733 - val_accuracy: 0.7353 - val_loss: 0.5796\n",
      "Epoch 3/50\n",
      "\u001b[1m77/77\u001b[0m \u001b[32m━━━━━━━━━━━━━━━━━━━━\u001b[0m\u001b[37m\u001b[0m \u001b[1m0s\u001b[0m 5ms/step - accuracy: 0.7442 - loss: 0.5281 - val_accuracy: 0.7353 - val_loss: 0.6151\n",
      "Epoch 4/50\n",
      "\u001b[1m77/77\u001b[0m \u001b[32m━━━━━━━━━━━━━━━━━━━━\u001b[0m\u001b[37m\u001b[0m \u001b[1m0s\u001b[0m 4ms/step - accuracy: 0.7626 - loss: 0.5132 - val_accuracy: 0.7353 - val_loss: 0.6142\n",
      "Epoch 5/50\n",
      "\u001b[1m77/77\u001b[0m \u001b[32m━━━━━━━━━━━━━━━━━━━━\u001b[0m\u001b[37m\u001b[0m \u001b[1m0s\u001b[0m 4ms/step - accuracy: 0.7806 - loss: 0.4686 - val_accuracy: 0.7353 - val_loss: 0.6443\n",
      "Epoch 6/50\n",
      "\u001b[1m77/77\u001b[0m \u001b[32m━━━━━━━━━━━━━━━━━━━━\u001b[0m\u001b[37m\u001b[0m \u001b[1m0s\u001b[0m 4ms/step - accuracy: 0.8081 - loss: 0.4493 - val_accuracy: 0.7386 - val_loss: 0.6315\n",
      "Epoch 7/50\n",
      "\u001b[1m77/77\u001b[0m \u001b[32m━━━━━━━━━━━━━━━━━━━━\u001b[0m\u001b[37m\u001b[0m \u001b[1m0s\u001b[0m 4ms/step - accuracy: 0.7876 - loss: 0.4690 - val_accuracy: 0.6634 - val_loss: 0.7280\n",
      "Epoch 8/50\n",
      "\u001b[1m77/77\u001b[0m \u001b[32m━━━━━━━━━━━━━━━━━━━━\u001b[0m\u001b[37m\u001b[0m \u001b[1m0s\u001b[0m 4ms/step - accuracy: 0.8078 - loss: 0.4086 - val_accuracy: 0.7026 - val_loss: 0.7113\n",
      "Epoch 9/50\n",
      "\u001b[1m77/77\u001b[0m \u001b[32m━━━━━━━━━━━━━━━━━━━━\u001b[0m\u001b[37m\u001b[0m \u001b[1m0s\u001b[0m 4ms/step - accuracy: 0.8303 - loss: 0.4072 - val_accuracy: 0.6699 - val_loss: 0.7554\n",
      "Epoch 10/50\n",
      "\u001b[1m77/77\u001b[0m \u001b[32m━━━━━━━━━━━━━━━━━━━━\u001b[0m\u001b[37m\u001b[0m \u001b[1m0s\u001b[0m 4ms/step - accuracy: 0.8422 - loss: 0.3719 - val_accuracy: 0.6307 - val_loss: 0.8992\n",
      "Epoch 11/50\n",
      "\u001b[1m77/77\u001b[0m \u001b[32m━━━━━━━━━━━━━━━━━━━━\u001b[0m\u001b[37m\u001b[0m \u001b[1m0s\u001b[0m 5ms/step - accuracy: 0.8380 - loss: 0.3702 - val_accuracy: 0.6765 - val_loss: 0.8473\n",
      "Epoch 12/50\n",
      "\u001b[1m77/77\u001b[0m \u001b[32m━━━━━━━━━━━━━━━━━━━━\u001b[0m\u001b[37m\u001b[0m \u001b[1m0s\u001b[0m 4ms/step - accuracy: 0.8337 - loss: 0.3769 - val_accuracy: 0.5719 - val_loss: 0.9106\n",
      "Epoch 13/50\n",
      "\u001b[1m77/77\u001b[0m \u001b[32m━━━━━━━━━━━━━━━━━━━━\u001b[0m\u001b[37m\u001b[0m \u001b[1m0s\u001b[0m 4ms/step - accuracy: 0.8549 - loss: 0.3296 - val_accuracy: 0.6340 - val_loss: 1.3773\n",
      "Epoch 14/50\n",
      "\u001b[1m77/77\u001b[0m \u001b[32m━━━━━━━━━━━━━━━━━━━━\u001b[0m\u001b[37m\u001b[0m \u001b[1m0s\u001b[0m 4ms/step - accuracy: 0.8506 - loss: 0.3396 - val_accuracy: 0.5719 - val_loss: 0.9502\n",
      "Epoch 15/50\n",
      "\u001b[1m77/77\u001b[0m \u001b[32m━━━━━━━━━━━━━━━━━━━━\u001b[0m\u001b[37m\u001b[0m \u001b[1m0s\u001b[0m 4ms/step - accuracy: 0.8633 - loss: 0.3299 - val_accuracy: 0.6569 - val_loss: 0.9354\n",
      "Epoch 16/50\n",
      "\u001b[1m77/77\u001b[0m \u001b[32m━━━━━━━━━━━━━━━━━━━━\u001b[0m\u001b[37m\u001b[0m \u001b[1m0s\u001b[0m 4ms/step - accuracy: 0.8810 - loss: 0.3103 - val_accuracy: 0.6928 - val_loss: 0.9036\n",
      "Epoch 17/50\n",
      "\u001b[1m77/77\u001b[0m \u001b[32m━━━━━━━━━━━━━━━━━━━━\u001b[0m\u001b[37m\u001b[0m \u001b[1m0s\u001b[0m 4ms/step - accuracy: 0.8540 - loss: 0.3372 - val_accuracy: 0.6634 - val_loss: 0.9955\n",
      "Epoch 18/50\n",
      "\u001b[1m77/77\u001b[0m \u001b[32m━━━━━━━━━━━━━━━━━━━━\u001b[0m\u001b[37m\u001b[0m \u001b[1m0s\u001b[0m 4ms/step - accuracy: 0.8515 - loss: 0.3237 - val_accuracy: 0.6209 - val_loss: 0.9454\n",
      "Epoch 19/50\n",
      "\u001b[1m77/77\u001b[0m \u001b[32m━━━━━━━━━━━━━━━━━━━━\u001b[0m\u001b[37m\u001b[0m \u001b[1m0s\u001b[0m 4ms/step - accuracy: 0.8850 - loss: 0.2778 - val_accuracy: 0.6111 - val_loss: 0.9005\n",
      "Epoch 20/50\n",
      "\u001b[1m77/77\u001b[0m \u001b[32m━━━━━━━━━━━━━━━━━━━━\u001b[0m\u001b[37m\u001b[0m \u001b[1m0s\u001b[0m 4ms/step - accuracy: 0.8984 - loss: 0.2538 - val_accuracy: 0.6275 - val_loss: 1.0114\n",
      "Epoch 21/50\n",
      "\u001b[1m77/77\u001b[0m \u001b[32m━━━━━━━━━━━━━━━━━━━━\u001b[0m\u001b[37m\u001b[0m \u001b[1m0s\u001b[0m 5ms/step - accuracy: 0.8910 - loss: 0.2762 - val_accuracy: 0.6928 - val_loss: 1.0412\n",
      "Epoch 22/50\n",
      "\u001b[1m77/77\u001b[0m \u001b[32m━━━━━━━━━━━━━━━━━━━━\u001b[0m\u001b[37m\u001b[0m \u001b[1m0s\u001b[0m 5ms/step - accuracy: 0.8940 - loss: 0.2434 - val_accuracy: 0.6765 - val_loss: 0.9594\n",
      "Epoch 23/50\n",
      "\u001b[1m77/77\u001b[0m \u001b[32m━━━━━━━━━━━━━━━━━━━━\u001b[0m\u001b[37m\u001b[0m \u001b[1m0s\u001b[0m 5ms/step - accuracy: 0.8828 - loss: 0.2714 - val_accuracy: 0.5752 - val_loss: 1.0659\n",
      "Epoch 24/50\n",
      "\u001b[1m77/77\u001b[0m \u001b[32m━━━━━━━━━━━━━━━━━━━━\u001b[0m\u001b[37m\u001b[0m \u001b[1m0s\u001b[0m 5ms/step - accuracy: 0.9052 - loss: 0.2296 - val_accuracy: 0.6438 - val_loss: 0.9876\n",
      "Epoch 25/50\n",
      "\u001b[1m77/77\u001b[0m \u001b[32m━━━━━━━━━━━━━━━━━━━━\u001b[0m\u001b[37m\u001b[0m \u001b[1m0s\u001b[0m 5ms/step - accuracy: 0.9090 - loss: 0.2119 - val_accuracy: 0.6209 - val_loss: 1.0025\n",
      "Epoch 26/50\n",
      "\u001b[1m77/77\u001b[0m \u001b[32m━━━━━━━━━━━━━━━━━━━━\u001b[0m\u001b[37m\u001b[0m \u001b[1m0s\u001b[0m 5ms/step - accuracy: 0.8914 - loss: 0.2389 - val_accuracy: 0.5948 - val_loss: 1.1660\n",
      "Epoch 27/50\n",
      "\u001b[1m77/77\u001b[0m \u001b[32m━━━━━━━━━━━━━━━━━━━━\u001b[0m\u001b[37m\u001b[0m \u001b[1m0s\u001b[0m 5ms/step - accuracy: 0.8963 - loss: 0.2470 - val_accuracy: 0.5817 - val_loss: 1.2164\n",
      "Epoch 28/50\n",
      "\u001b[1m77/77\u001b[0m \u001b[32m━━━━━━━━━━━━━━━━━━━━\u001b[0m\u001b[37m\u001b[0m \u001b[1m0s\u001b[0m 5ms/step - accuracy: 0.9289 - loss: 0.1770 - val_accuracy: 0.6601 - val_loss: 1.0212\n",
      "Epoch 29/50\n",
      "\u001b[1m77/77\u001b[0m \u001b[32m━━━━━━━━━━━━━━━━━━━━\u001b[0m\u001b[37m\u001b[0m \u001b[1m0s\u001b[0m 4ms/step - accuracy: 0.9178 - loss: 0.2032 - val_accuracy: 0.6438 - val_loss: 1.0957\n",
      "Epoch 30/50\n",
      "\u001b[1m77/77\u001b[0m \u001b[32m━━━━━━━━━━━━━━━━━━━━\u001b[0m\u001b[37m\u001b[0m \u001b[1m0s\u001b[0m 4ms/step - accuracy: 0.9193 - loss: 0.2075 - val_accuracy: 0.6144 - val_loss: 1.1565\n",
      "Epoch 31/50\n",
      "\u001b[1m77/77\u001b[0m \u001b[32m━━━━━━━━━━━━━━━━━━━━\u001b[0m\u001b[37m\u001b[0m \u001b[1m0s\u001b[0m 4ms/step - accuracy: 0.9244 - loss: 0.2012 - val_accuracy: 0.5784 - val_loss: 1.2096\n",
      "Epoch 32/50\n",
      "\u001b[1m77/77\u001b[0m \u001b[32m━━━━━━━━━━━━━━━━━━━━\u001b[0m\u001b[37m\u001b[0m \u001b[1m0s\u001b[0m 4ms/step - accuracy: 0.9285 - loss: 0.1861 - val_accuracy: 0.5686 - val_loss: 1.2567\n",
      "Epoch 33/50\n",
      "\u001b[1m77/77\u001b[0m \u001b[32m━━━━━━━━━━━━━━━━━━━━\u001b[0m\u001b[37m\u001b[0m \u001b[1m0s\u001b[0m 4ms/step - accuracy: 0.8952 - loss: 0.2314 - val_accuracy: 0.6242 - val_loss: 1.2683\n",
      "Epoch 34/50\n",
      "\u001b[1m77/77\u001b[0m \u001b[32m━━━━━━━━━━━━━━━━━━━━\u001b[0m\u001b[37m\u001b[0m \u001b[1m0s\u001b[0m 4ms/step - accuracy: 0.9014 - loss: 0.2318 - val_accuracy: 0.6830 - val_loss: 1.2179\n",
      "Epoch 35/50\n",
      "\u001b[1m77/77\u001b[0m \u001b[32m━━━━━━━━━━━━━━━━━━━━\u001b[0m\u001b[37m\u001b[0m \u001b[1m0s\u001b[0m 4ms/step - accuracy: 0.9341 - loss: 0.1678 - val_accuracy: 0.6732 - val_loss: 1.2467\n",
      "Epoch 36/50\n",
      "\u001b[1m77/77\u001b[0m \u001b[32m━━━━━━━━━━━━━━━━━━━━\u001b[0m\u001b[37m\u001b[0m \u001b[1m0s\u001b[0m 4ms/step - accuracy: 0.9285 - loss: 0.1829 - val_accuracy: 0.6405 - val_loss: 1.1206\n",
      "Epoch 37/50\n",
      "\u001b[1m77/77\u001b[0m \u001b[32m━━━━━━━━━━━━━━━━━━━━\u001b[0m\u001b[37m\u001b[0m \u001b[1m0s\u001b[0m 4ms/step - accuracy: 0.9420 - loss: 0.1510 - val_accuracy: 0.6601 - val_loss: 1.1467\n",
      "Epoch 38/50\n",
      "\u001b[1m77/77\u001b[0m \u001b[32m━━━━━━━━━━━━━━━━━━━━\u001b[0m\u001b[37m\u001b[0m \u001b[1m0s\u001b[0m 4ms/step - accuracy: 0.9398 - loss: 0.1835 - val_accuracy: 0.6242 - val_loss: 1.1962\n",
      "Epoch 39/50\n",
      "\u001b[1m77/77\u001b[0m \u001b[32m━━━━━━━━━━━━━━━━━━━━\u001b[0m\u001b[37m\u001b[0m \u001b[1m0s\u001b[0m 4ms/step - accuracy: 0.9400 - loss: 0.1818 - val_accuracy: 0.6569 - val_loss: 1.3863\n",
      "Epoch 40/50\n",
      "\u001b[1m77/77\u001b[0m \u001b[32m━━━━━━━━━━━━━━━━━━━━\u001b[0m\u001b[37m\u001b[0m \u001b[1m0s\u001b[0m 4ms/step - accuracy: 0.9453 - loss: 0.1441 - val_accuracy: 0.6732 - val_loss: 1.4743\n",
      "Epoch 41/50\n",
      "\u001b[1m77/77\u001b[0m \u001b[32m━━━━━━━━━━━━━━━━━━━━\u001b[0m\u001b[37m\u001b[0m \u001b[1m0s\u001b[0m 4ms/step - accuracy: 0.9547 - loss: 0.1300 - val_accuracy: 0.6144 - val_loss: 1.2603\n",
      "Epoch 42/50\n",
      "\u001b[1m77/77\u001b[0m \u001b[32m━━━━━━━━━━━━━━━━━━━━\u001b[0m\u001b[37m\u001b[0m \u001b[1m0s\u001b[0m 4ms/step - accuracy: 0.9467 - loss: 0.1230 - val_accuracy: 0.7092 - val_loss: 1.3183\n",
      "Epoch 43/50\n",
      "\u001b[1m77/77\u001b[0m \u001b[32m━━━━━━━━━━━━━━━━━━━━\u001b[0m\u001b[37m\u001b[0m \u001b[1m0s\u001b[0m 5ms/step - accuracy: 0.9368 - loss: 0.1428 - val_accuracy: 0.5915 - val_loss: 1.5851\n",
      "Epoch 44/50\n",
      "\u001b[1m77/77\u001b[0m \u001b[32m━━━━━━━━━━━━━━━━━━━━\u001b[0m\u001b[37m\u001b[0m \u001b[1m0s\u001b[0m 5ms/step - accuracy: 0.9362 - loss: 0.1630 - val_accuracy: 0.6438 - val_loss: 1.5350\n",
      "Epoch 45/50\n",
      "\u001b[1m77/77\u001b[0m \u001b[32m━━━━━━━━━━━━━━━━━━━━\u001b[0m\u001b[37m\u001b[0m \u001b[1m0s\u001b[0m 5ms/step - accuracy: 0.9347 - loss: 0.1701 - val_accuracy: 0.6209 - val_loss: 1.3435\n",
      "Epoch 46/50\n",
      "\u001b[1m77/77\u001b[0m \u001b[32m━━━━━━━━━━━━━━━━━━━━\u001b[0m\u001b[37m\u001b[0m \u001b[1m0s\u001b[0m 5ms/step - accuracy: 0.9317 - loss: 0.1704 - val_accuracy: 0.6536 - val_loss: 1.3156\n",
      "Epoch 47/50\n",
      "\u001b[1m77/77\u001b[0m \u001b[32m━━━━━━━━━━━━━━━━━━━━\u001b[0m\u001b[37m\u001b[0m \u001b[1m0s\u001b[0m 4ms/step - accuracy: 0.9455 - loss: 0.1564 - val_accuracy: 0.6471 - val_loss: 1.4750\n",
      "Epoch 48/50\n",
      "\u001b[1m77/77\u001b[0m \u001b[32m━━━━━━━━━━━━━━━━━━━━\u001b[0m\u001b[37m\u001b[0m \u001b[1m0s\u001b[0m 4ms/step - accuracy: 0.9556 - loss: 0.1276 - val_accuracy: 0.5752 - val_loss: 1.4624\n",
      "Epoch 49/50\n",
      "\u001b[1m77/77\u001b[0m \u001b[32m━━━━━━━━━━━━━━━━━━━━\u001b[0m\u001b[37m\u001b[0m \u001b[1m0s\u001b[0m 5ms/step - accuracy: 0.9441 - loss: 0.1369 - val_accuracy: 0.5980 - val_loss: 1.4642\n",
      "Epoch 50/50\n",
      "\u001b[1m77/77\u001b[0m \u001b[32m━━━━━━━━━━━━━━━━━━━━\u001b[0m\u001b[37m\u001b[0m \u001b[1m0s\u001b[0m 5ms/step - accuracy: 0.9446 - loss: 0.1434 - val_accuracy: 0.6503 - val_loss: 1.1893\n"
     ]
    }
   ],
   "source": [
    "history = modelC.fit(\n",
    "    X_train, y_train,\n",
    "    validation_split=0.2, \n",
    "    epochs=50, \n",
    "    batch_size=16\n",
    ")"
   ]
  },
  {
   "cell_type": "code",
   "execution_count": 26,
   "id": "e357cec3",
   "metadata": {
    "execution": {
     "iopub.execute_input": "2025-03-18T14:38:19.804663Z",
     "iopub.status.busy": "2025-03-18T14:38:19.804281Z",
     "iopub.status.idle": "2025-03-18T14:38:19.810054Z",
     "shell.execute_reply": "2025-03-18T14:38:19.809061Z"
    },
    "papermill": {
     "duration": 0.053191,
     "end_time": "2025-03-18T14:38:19.811759",
     "exception": false,
     "start_time": "2025-03-18T14:38:19.758568",
     "status": "completed"
    },
    "tags": []
   },
   "outputs": [],
   "source": [
    "X_test, y_test = reshape_temporal(X_test, y_test, 3)"
   ]
  },
  {
   "cell_type": "code",
   "execution_count": 27,
   "id": "3800286d",
   "metadata": {
    "execution": {
     "iopub.execute_input": "2025-03-18T14:38:19.899615Z",
     "iopub.status.busy": "2025-03-18T14:38:19.899238Z",
     "iopub.status.idle": "2025-03-18T14:38:20.020425Z",
     "shell.execute_reply": "2025-03-18T14:38:20.019165Z"
    },
    "papermill": {
     "duration": 0.167835,
     "end_time": "2025-03-18T14:38:20.022740",
     "exception": false,
     "start_time": "2025-03-18T14:38:19.854905",
     "status": "completed"
    },
    "tags": []
   },
   "outputs": [
    {
     "name": "stdout",
     "output_type": "stream",
     "text": [
      "\u001b[1m21/21\u001b[0m \u001b[32m━━━━━━━━━━━━━━━━━━━━\u001b[0m\u001b[37m\u001b[0m \u001b[1m0s\u001b[0m 2ms/step - accuracy: 0.5725 - loss: 1.4154 \n"
     ]
    }
   ],
   "source": [
    "test_loss, test_accuracy = modelC.evaluate(X_test, y_test)"
   ]
  },
  {
   "cell_type": "code",
   "execution_count": 28,
   "id": "0e146f9b",
   "metadata": {
    "execution": {
     "iopub.execute_input": "2025-03-18T14:38:20.114256Z",
     "iopub.status.busy": "2025-03-18T14:38:20.113836Z",
     "iopub.status.idle": "2025-03-18T14:38:20.507354Z",
     "shell.execute_reply": "2025-03-18T14:38:20.506315Z"
    },
    "papermill": {
     "duration": 0.44179,
     "end_time": "2025-03-18T14:38:20.509145",
     "exception": false,
     "start_time": "2025-03-18T14:38:20.067355",
     "status": "completed"
    },
    "tags": []
   },
   "outputs": [
    {
     "data": {
      "image/png": "[encoded data removed]",
      "text/plain": [
       "<Figure size 640x480 with 1 Axes>"
      ]
     },
     "metadata": {},
     "output_type": "display_data"
    },
    {
     "data": {
      "image/png": "[encoded data removed]",
      "text/plain": [
       "<Figure size 640x480 with 1 Axes>"
      ]
     },
     "metadata": {},
     "output_type": "display_data"
    }
   ],
   "source": [
    "plt.plot(history.history['accuracy'], label='Training Accuracy')\n",
    "plt.plot(history.history['val_accuracy'], label='Validation Accuracy')\n",
    "plt.xlabel('Epochs')\n",
    "plt.ylabel('Accuracy')\n",
    "plt.legend()\n",
    "plt.show()\n",
    "\n",
    "\n",
    "plt.plot(history.history['loss'], label='Training Loss')\n",
    "plt.plot(history.history['val_loss'], label='Validation Loss')\n",
    "plt.xlabel('Epochs')\n",
    "plt.ylabel('Loss')\n",
    "plt.legend()\n",
    "plt.show()"
   ]
  },
  {
   "cell_type": "code",
   "execution_count": null,
   "id": "2e328d55",
   "metadata": {
    "papermill": {
     "duration": 0.045028,
     "end_time": "2025-03-18T14:38:20.599808",
     "exception": false,
     "start_time": "2025-03-18T14:38:20.554780",
     "status": "completed"
    },
    "tags": []
   },
   "outputs": [],
   "source": []
  }
 ],
 "metadata": {
  "kaggle": {
   "accelerator": "none",
   "dataSources": [
    {
     "databundleVersionId": 11251744,
     "sourceId": 91714,
     "sourceType": "competition"
    }
   ],
   "dockerImageVersionId": 30918,
   "isGpuEnabled": false,
   "isInternetEnabled": true,
   "language": "python",
   "sourceType": "notebook"
  },
  "kernelspec": {
   "display_name": "Python 3",
   "language": "python",
   "name": "python3"
  },
  "language_info": {
   "codemirror_mode": {
    "name": "ipython",
    "version": 3
   },
   "file_extension": ".py",
   "mimetype": "text/x-python",
   "name": "python",
   "nbconvert_exporter": "python",
   "pygments_lexer": "ipython3",
   "version": "3.10.12"
  },
  "papermill": {
   "default_parameters": {},
   "duration": 60.643457,
   "end_time": "2025-03-18T14:38:23.093563",
   "environment_variables": {},
   "exception": null,
   "input_path": "__notebook__.ipynb",
   "output_path": "__notebook__.ipynb",
   "parameters": {},
   "start_time": "2025-03-18T14:37:22.450106",
   "version": "2.6.0"
  }
 },
 "nbformat": 4,
 "nbformat_minor": 5
}
