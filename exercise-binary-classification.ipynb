{
 "cells": [
  {
   "cell_type": "markdown",
   "id": "4261a42e",
   "metadata": {
    "papermill": {
     "duration": 0.00379,
     "end_time": "2025-03-15T01:26:07.794304",
     "exception": false,
     "start_time": "2025-03-15T01:26:07.790514",
     "status": "completed"
    },
    "tags": []
   },
   "source": [
    "**This notebook is an exercise in the [Intro to Deep Learning](https://www.kaggle.com/learn/intro-to-deep-learning) course.  You can reference the tutorial at [this link](https://www.kaggle.com/ryanholbrook/binary-classification).**\n",
    "\n",
    "---\n"
   ]
  },
  {
   "cell_type": "markdown",
   "id": "b15f6bc2",
   "metadata": {
    "papermill": {
     "duration": 0.002748,
     "end_time": "2025-03-15T01:26:07.800526",
     "exception": false,
     "start_time": "2025-03-15T01:26:07.797778",
     "status": "completed"
    },
    "tags": []
   },
   "source": [
    "# Introduction #\n",
    "\n",
    "In this exercise, you'll build a model to predict hotel cancellations with a binary classifier."
   ]
  },
  {
   "cell_type": "code",
   "execution_count": 1,
   "id": "88c8f9d7",
   "metadata": {
    "execution": {
     "iopub.execute_input": "2025-03-15T01:26:07.807883Z",
     "iopub.status.busy": "2025-03-15T01:26:07.807522Z",
     "iopub.status.idle": "2025-03-15T01:26:08.651793Z",
     "shell.execute_reply": "2025-03-15T01:26:08.651050Z"
    },
    "lines_to_next_cell": 0,
    "papermill": {
     "duration": 0.850515,
     "end_time": "2025-03-15T01:26:08.653909",
     "exception": false,
     "start_time": "2025-03-15T01:26:07.803394",
     "status": "completed"
    },
    "tags": []
   },
   "outputs": [
    {
     "name": "stderr",
     "output_type": "stream",
     "text": [
      "/tmp/ipykernel_26/3338970720.py:3: MatplotlibDeprecationWarning: The seaborn styles shipped by Matplotlib are deprecated since 3.6, as they no longer correspond to the styles shipped by seaborn. However, they will remain available as 'seaborn-v0_8-<style>'. Alternatively, directly use the seaborn API instead.\n",
      "  plt.style.use('seaborn-whitegrid')\n"
     ]
    }
   ],
   "source": [
    "# Setup plotting\n",
    "import matplotlib.pyplot as plt\n",
    "plt.style.use('seaborn-whitegrid')\n",
    "# Set Matplotlib defaults\n",
    "plt.rc('figure', autolayout=True)\n",
    "plt.rc('axes', labelweight='bold', labelsize='large',\n",
    "       titleweight='bold', titlesize=18, titlepad=10)\n",
    "plt.rc('animation', html='html5')\n",
    "\n",
    "# Setup feedback system\n",
    "from learntools.core import binder\n",
    "binder.bind(globals())\n",
    "from learntools.deep_learning_intro.ex6 import *"
   ]
  },
  {
   "cell_type": "markdown",
   "id": "65dea29b",
   "metadata": {
    "papermill": {
     "duration": 0.002815,
     "end_time": "2025-03-15T01:26:08.660142",
     "exception": false,
     "start_time": "2025-03-15T01:26:08.657327",
     "status": "completed"
    },
    "tags": []
   },
   "source": [
    "First, load the *Hotel Cancellations* dataset."
   ]
  },
  {
   "cell_type": "code",
   "execution_count": 2,
   "id": "ed3b819f",
   "metadata": {
    "execution": {
     "iopub.execute_input": "2025-03-15T01:26:08.667725Z",
     "iopub.status.busy": "2025-03-15T01:26:08.667208Z",
     "iopub.status.idle": "2025-03-15T01:26:11.155982Z",
     "shell.execute_reply": "2025-03-15T01:26:11.155169Z"
    },
    "lines_to_next_cell": 2,
    "papermill": {
     "duration": 2.494957,
     "end_time": "2025-03-15T01:26:11.158066",
     "exception": false,
     "start_time": "2025-03-15T01:26:08.663109",
     "status": "completed"
    },
    "tags": []
   },
   "outputs": [],
   "source": [
    "import pandas as pd\n",
    "\n",
    "from sklearn.model_selection import train_test_split\n",
    "from sklearn.preprocessing import StandardScaler, OneHotEncoder\n",
    "from sklearn.impute import SimpleImputer\n",
    "from sklearn.pipeline import make_pipeline\n",
    "from sklearn.compose import make_column_transformer\n",
    "\n",
    "hotel = pd.read_csv('../input/dl-course-data/hotel.csv')\n",
    "\n",
    "X = hotel.copy()\n",
    "y = X.pop('is_canceled')\n",
    "\n",
    "X['arrival_date_month'] = \\\n",
    "    X['arrival_date_month'].map(\n",
    "        {'January':1, 'February': 2, 'March':3,\n",
    "         'April':4, 'May':5, 'June':6, 'July':7,\n",
    "         'August':8, 'September':9, 'October':10,\n",
    "         'November':11, 'December':12}\n",
    "    )\n",
    "\n",
    "features_num = [\n",
    "    \"lead_time\", \"arrival_date_week_number\",\n",
    "    \"arrival_date_day_of_month\", \"stays_in_weekend_nights\",\n",
    "    \"stays_in_week_nights\", \"adults\", \"children\", \"babies\",\n",
    "    \"is_repeated_guest\", \"previous_cancellations\",\n",
    "    \"previous_bookings_not_canceled\", \"required_car_parking_spaces\",\n",
    "    \"total_of_special_requests\", \"adr\",\n",
    "]\n",
    "features_cat = [\n",
    "    \"hotel\", \"arrival_date_month\", \"meal\",\n",
    "    \"market_segment\", \"distribution_channel\",\n",
    "    \"reserved_room_type\", \"deposit_type\", \"customer_type\",\n",
    "]\n",
    "\n",
    "transformer_num = make_pipeline(\n",
    "    SimpleImputer(strategy=\"constant\"), # there are a few missing values\n",
    "    StandardScaler(),\n",
    ")\n",
    "transformer_cat = make_pipeline(\n",
    "    SimpleImputer(strategy=\"constant\", fill_value=\"NA\"),\n",
    "    OneHotEncoder(handle_unknown='ignore'),\n",
    ")\n",
    "\n",
    "preprocessor = make_column_transformer(\n",
    "    (transformer_num, features_num),\n",
    "    (transformer_cat, features_cat),\n",
    ")\n",
    "\n",
    "# stratify - make sure classes are evenlly represented across splits\n",
    "X_train, X_valid, y_train, y_valid = \\\n",
    "    train_test_split(X, y, stratify=y, train_size=0.75)\n",
    "\n",
    "X_train = preprocessor.fit_transform(X_train)\n",
    "X_valid = preprocessor.transform(X_valid)\n",
    "\n",
    "input_shape = [X_train.shape[1]]"
   ]
  },
  {
   "cell_type": "markdown",
   "id": "76274c65",
   "metadata": {
    "papermill": {
     "duration": 0.002893,
     "end_time": "2025-03-15T01:26:11.164307",
     "exception": false,
     "start_time": "2025-03-15T01:26:11.161414",
     "status": "completed"
    },
    "tags": []
   },
   "source": [
    "# 1) Define Model #\n",
    "\n",
    "The model we'll use this time will have both batch normalization and dropout layers. To ease reading we've broken the diagram into blocks, but you can define it layer by layer as usual.\n",
    "\n",
    "Define a model with an architecture given by this diagram:\n",
    "\n",
    "<figure style=\"padding: 1em;\">\n",
    "<img src=\"https://storage.googleapis.com/kaggle-media/learn/images/V04o59Z.png\" width=\"400\" alt=\"Diagram of network architecture: BatchNorm, Dense, BatchNorm, Dropout, Dense, BatchNorm, Dropout, Dense.\">\n",
    "<figcaption style=\"textalign: center; font-style: italic\"><center>Diagram of a binary classifier.</center></figcaption>\n",
    "</figure>\n"
   ]
  },
  {
   "cell_type": "code",
   "execution_count": 3,
   "id": "4f83c80f",
   "metadata": {
    "execution": {
     "iopub.execute_input": "2025-03-15T01:26:11.171796Z",
     "iopub.status.busy": "2025-03-15T01:26:11.171457Z",
     "iopub.status.idle": "2025-03-15T01:26:25.209205Z",
     "shell.execute_reply": "2025-03-15T01:26:25.208148Z"
    },
    "lines_to_next_cell": 2,
    "papermill": {
     "duration": 14.043838,
     "end_time": "2025-03-15T01:26:25.211138",
     "exception": false,
     "start_time": "2025-03-15T01:26:11.167300",
     "status": "completed"
    },
    "tags": []
   },
   "outputs": [
    {
     "name": "stderr",
     "output_type": "stream",
     "text": [
      "2025-03-15 01:26:13.104596: E external/local_xla/xla/stream_executor/cuda/cuda_dnn.cc:9261] Unable to register cuDNN factory: Attempting to register factory for plugin cuDNN when one has already been registered\n",
      "2025-03-15 01:26:13.104736: E external/local_xla/xla/stream_executor/cuda/cuda_fft.cc:607] Unable to register cuFFT factory: Attempting to register factory for plugin cuFFT when one has already been registered\n",
      "2025-03-15 01:26:13.249958: E external/local_xla/xla/stream_executor/cuda/cuda_blas.cc:1515] Unable to register cuBLAS factory: Attempting to register factory for plugin cuBLAS when one has already been registered\n"
     ]
    },
    {
     "data": {
      "application/javascript": [
       "parent.postMessage({\"jupyterEvent\": \"custom.exercise_interaction\", \"data\": {\"outcomeType\": 1, \"valueTowardsCompletion\": 0.3333333333333333, \"interactionType\": 1, \"questionType\": 2, \"questionId\": \"1_Q1\", \"learnToolsVersion\": \"0.3.4\", \"failureMessage\": \"\", \"exceptionClass\": \"\", \"trace\": \"\"}}, \"*\")"
      ],
      "text/plain": [
       "<IPython.core.display.Javascript object>"
      ]
     },
     "metadata": {},
     "output_type": "display_data"
    },
    {
     "data": {
      "text/markdown": [
       "<span style=\"color:#33cc33\">Correct</span>"
      ],
      "text/plain": [
       "Correct"
      ]
     },
     "metadata": {},
     "output_type": "display_data"
    }
   ],
   "source": [
    "from tensorflow import keras\n",
    "from tensorflow.keras import layers\n",
    "\n",
    "# YOUR CODE HERE: define the model given in the diagram\n",
    "model = keras.Sequential([\n",
    "    layers.BatchNormalization(input_shape=input_shape),\n",
    "    layers.Dense(256, activation='relu'),\n",
    "    layers.BatchNormalization(),\n",
    "    layers.Dropout(0.3),\n",
    "    layers.Dense(256, activation='relu'),\n",
    "    layers.BatchNormalization(),\n",
    "    layers.Dropout(0.3),\n",
    "    layers.Dense(1, activation='sigmoid'),\n",
    "])\n",
    "\n",
    "# Check your answer\n",
    "q_1.check()"
   ]
  },
  {
   "cell_type": "markdown",
   "id": "c0f36664",
   "metadata": {
    "papermill": {
     "duration": 0.003258,
     "end_time": "2025-03-15T01:26:25.217848",
     "exception": false,
     "start_time": "2025-03-15T01:26:25.214590",
     "status": "completed"
    },
    "tags": []
   },
   "source": [
    "# 2) Add Optimizer, Loss, and Metric #\n",
    "\n",
    "Now compile the model with the Adam optimizer and binary versions of the cross-entropy loss and accuracy metric."
   ]
  },
  {
   "cell_type": "code",
   "execution_count": 4,
   "id": "f64a4bd6",
   "metadata": {
    "execution": {
     "iopub.execute_input": "2025-03-15T01:26:25.226180Z",
     "iopub.status.busy": "2025-03-15T01:26:25.225570Z",
     "iopub.status.idle": "2025-03-15T01:26:25.250494Z",
     "shell.execute_reply": "2025-03-15T01:26:25.249606Z"
    },
    "lines_to_next_cell": 0,
    "papermill": {
     "duration": 0.031819,
     "end_time": "2025-03-15T01:26:25.252892",
     "exception": false,
     "start_time": "2025-03-15T01:26:25.221073",
     "status": "completed"
    },
    "tags": []
   },
   "outputs": [
    {
     "data": {
      "application/javascript": [
       "parent.postMessage({\"jupyterEvent\": \"custom.exercise_interaction\", \"data\": {\"outcomeType\": 1, \"valueTowardsCompletion\": 0.3333333333333333, \"interactionType\": 1, \"questionType\": 2, \"questionId\": \"2_Q2\", \"learnToolsVersion\": \"0.3.4\", \"failureMessage\": \"\", \"exceptionClass\": \"\", \"trace\": \"\"}}, \"*\")"
      ],
      "text/plain": [
       "<IPython.core.display.Javascript object>"
      ]
     },
     "metadata": {},
     "output_type": "display_data"
    },
    {
     "data": {
      "text/markdown": [
       "<span style=\"color:#33cc33\">Correct</span>"
      ],
      "text/plain": [
       "Correct"
      ]
     },
     "metadata": {},
     "output_type": "display_data"
    }
   ],
   "source": [
    "# YOUR CODE HERE\n",
    "model.compile(\n",
    "    optimizer='adam',\n",
    "    loss='binary_crossentropy',\n",
    "    metrics=['binary_accuracy'],\n",
    ")\n",
    "\n",
    "# Check your answer\n",
    "q_2.check()"
   ]
  },
  {
   "cell_type": "code",
   "execution_count": 5,
   "id": "26582046",
   "metadata": {
    "execution": {
     "iopub.execute_input": "2025-03-15T01:26:25.268180Z",
     "iopub.status.busy": "2025-03-15T01:26:25.267255Z",
     "iopub.status.idle": "2025-03-15T01:26:25.271773Z",
     "shell.execute_reply": "2025-03-15T01:26:25.270806Z"
    },
    "lines_to_next_cell": 0,
    "papermill": {
     "duration": 0.014226,
     "end_time": "2025-03-15T01:26:25.273720",
     "exception": false,
     "start_time": "2025-03-15T01:26:25.259494",
     "status": "completed"
    },
    "tags": []
   },
   "outputs": [],
   "source": [
    "# Lines below will give you a hint or solution code\n",
    "#q_2.hint()\n",
    "#q_2.solution()"
   ]
  },
  {
   "cell_type": "markdown",
   "id": "48682d4b",
   "metadata": {
    "papermill": {
     "duration": 0.003475,
     "end_time": "2025-03-15T01:26:25.281058",
     "exception": false,
     "start_time": "2025-03-15T01:26:25.277583",
     "status": "completed"
    },
    "tags": []
   },
   "source": [
    "Finally, run this cell to train the model and view the learning curves. It may run for around 60 to 70 epochs, which could take a minute or two."
   ]
  },
  {
   "cell_type": "code",
   "execution_count": 6,
   "id": "ee2e6223",
   "metadata": {
    "execution": {
     "iopub.execute_input": "2025-03-15T01:26:25.289896Z",
     "iopub.status.busy": "2025-03-15T01:26:25.289572Z",
     "iopub.status.idle": "2025-03-15T01:27:05.514534Z",
     "shell.execute_reply": "2025-03-15T01:27:05.513577Z"
    },
    "papermill": {
     "duration": 40.231743,
     "end_time": "2025-03-15T01:27:05.516363",
     "exception": false,
     "start_time": "2025-03-15T01:26:25.284620",
     "status": "completed"
    },
    "tags": []
   },
   "outputs": [
    {
     "name": "stdout",
     "output_type": "stream",
     "text": [
      "Epoch 1/200\n"
     ]
    },
    {
     "name": "stderr",
     "output_type": "stream",
     "text": [
      "WARNING: All log messages before absl::InitializeLog() is called are written to STDERR\n",
      "I0000 00:00:1742001989.766789      67 device_compiler.h:186] Compiled cluster using XLA!  This line is logged at most once for the lifetime of the process.\n"
     ]
    },
    {
     "name": "stdout",
     "output_type": "stream",
     "text": [
      "175/175 [==============================] - 7s 8ms/step - loss: 0.4831 - binary_accuracy: 0.7724 - val_loss: 0.4351 - val_binary_accuracy: 0.8078\n",
      "Epoch 2/200\n",
      "175/175 [==============================] - 1s 7ms/step - loss: 0.4245 - binary_accuracy: 0.8000 - val_loss: 0.4010 - val_binary_accuracy: 0.8134\n",
      "Epoch 3/200\n",
      "175/175 [==============================] - 1s 7ms/step - loss: 0.4113 - binary_accuracy: 0.8071 - val_loss: 0.3928 - val_binary_accuracy: 0.8186\n",
      "Epoch 4/200\n",
      "175/175 [==============================] - 1s 6ms/step - loss: 0.4038 - binary_accuracy: 0.8105 - val_loss: 0.3880 - val_binary_accuracy: 0.8211\n",
      "Epoch 5/200\n",
      "175/175 [==============================] - 1s 7ms/step - loss: 0.3978 - binary_accuracy: 0.8143 - val_loss: 0.3869 - val_binary_accuracy: 0.8238\n",
      "Epoch 6/200\n",
      "175/175 [==============================] - 1s 6ms/step - loss: 0.3946 - binary_accuracy: 0.8158 - val_loss: 0.3812 - val_binary_accuracy: 0.8221\n",
      "Epoch 7/200\n",
      "175/175 [==============================] - 1s 6ms/step - loss: 0.3916 - binary_accuracy: 0.8188 - val_loss: 0.3785 - val_binary_accuracy: 0.8242\n",
      "Epoch 8/200\n",
      "175/175 [==============================] - 1s 6ms/step - loss: 0.3853 - binary_accuracy: 0.8218 - val_loss: 0.3752 - val_binary_accuracy: 0.8260\n",
      "Epoch 9/200\n",
      "175/175 [==============================] - 1s 7ms/step - loss: 0.3848 - binary_accuracy: 0.8219 - val_loss: 0.3721 - val_binary_accuracy: 0.8297\n",
      "Epoch 10/200\n",
      "175/175 [==============================] - 1s 6ms/step - loss: 0.3795 - binary_accuracy: 0.8244 - val_loss: 0.3731 - val_binary_accuracy: 0.8301\n",
      "Epoch 11/200\n",
      "175/175 [==============================] - 1s 6ms/step - loss: 0.3784 - binary_accuracy: 0.8245 - val_loss: 0.3703 - val_binary_accuracy: 0.8303\n",
      "Epoch 12/200\n",
      "175/175 [==============================] - 1s 6ms/step - loss: 0.3748 - binary_accuracy: 0.8261 - val_loss: 0.3668 - val_binary_accuracy: 0.8304\n",
      "Epoch 13/200\n",
      "175/175 [==============================] - 1s 6ms/step - loss: 0.3738 - binary_accuracy: 0.8273 - val_loss: 0.3672 - val_binary_accuracy: 0.8314\n",
      "Epoch 14/200\n",
      "175/175 [==============================] - 1s 6ms/step - loss: 0.3709 - binary_accuracy: 0.8285 - val_loss: 0.3640 - val_binary_accuracy: 0.8336\n",
      "Epoch 15/200\n",
      "175/175 [==============================] - 1s 7ms/step - loss: 0.3692 - binary_accuracy: 0.8296 - val_loss: 0.3628 - val_binary_accuracy: 0.8327\n",
      "Epoch 16/200\n",
      "175/175 [==============================] - 1s 7ms/step - loss: 0.3668 - binary_accuracy: 0.8311 - val_loss: 0.3600 - val_binary_accuracy: 0.8347\n",
      "Epoch 17/200\n",
      "175/175 [==============================] - 1s 6ms/step - loss: 0.3659 - binary_accuracy: 0.8307 - val_loss: 0.3592 - val_binary_accuracy: 0.8351\n",
      "Epoch 18/200\n",
      "175/175 [==============================] - 1s 7ms/step - loss: 0.3629 - binary_accuracy: 0.8330 - val_loss: 0.3606 - val_binary_accuracy: 0.8333\n",
      "Epoch 19/200\n",
      "175/175 [==============================] - 1s 6ms/step - loss: 0.3618 - binary_accuracy: 0.8322 - val_loss: 0.3603 - val_binary_accuracy: 0.8346\n",
      "Epoch 20/200\n",
      "175/175 [==============================] - 1s 6ms/step - loss: 0.3609 - binary_accuracy: 0.8327 - val_loss: 0.3608 - val_binary_accuracy: 0.8354\n",
      "Epoch 21/200\n",
      "175/175 [==============================] - 1s 6ms/step - loss: 0.3582 - binary_accuracy: 0.8336 - val_loss: 0.3566 - val_binary_accuracy: 0.8384\n",
      "Epoch 22/200\n",
      "175/175 [==============================] - 1s 6ms/step - loss: 0.3576 - binary_accuracy: 0.8341 - val_loss: 0.3571 - val_binary_accuracy: 0.8371\n",
      "Epoch 23/200\n",
      "175/175 [==============================] - 1s 7ms/step - loss: 0.3561 - binary_accuracy: 0.8355 - val_loss: 0.3547 - val_binary_accuracy: 0.8367\n",
      "Epoch 24/200\n",
      "175/175 [==============================] - 1s 7ms/step - loss: 0.3546 - binary_accuracy: 0.8361 - val_loss: 0.3546 - val_binary_accuracy: 0.8384\n",
      "Epoch 25/200\n",
      "175/175 [==============================] - 1s 6ms/step - loss: 0.3533 - binary_accuracy: 0.8354 - val_loss: 0.3532 - val_binary_accuracy: 0.8397\n",
      "Epoch 26/200\n",
      "175/175 [==============================] - 1s 6ms/step - loss: 0.3517 - binary_accuracy: 0.8374 - val_loss: 0.3569 - val_binary_accuracy: 0.8361\n",
      "Epoch 27/200\n",
      "175/175 [==============================] - 1s 7ms/step - loss: 0.3512 - binary_accuracy: 0.8371 - val_loss: 0.3530 - val_binary_accuracy: 0.8381\n",
      "Epoch 28/200\n",
      "175/175 [==============================] - 1s 7ms/step - loss: 0.3499 - binary_accuracy: 0.8389 - val_loss: 0.3541 - val_binary_accuracy: 0.8396\n",
      "Epoch 29/200\n",
      "175/175 [==============================] - 1s 6ms/step - loss: 0.3493 - binary_accuracy: 0.8393 - val_loss: 0.3527 - val_binary_accuracy: 0.8385\n",
      "Epoch 30/200\n",
      "175/175 [==============================] - 1s 6ms/step - loss: 0.3478 - binary_accuracy: 0.8382 - val_loss: 0.3549 - val_binary_accuracy: 0.8366\n"
     ]
    },
    {
     "data": {
      "text/plain": [
       "<Axes: title={'center': 'Accuracy'}>"
      ]
     },
     "execution_count": 6,
     "metadata": {},
     "output_type": "execute_result"
    },
    {
     "data": {
      "image/png": "[encoded data removed]",
      "text/plain": [
       "<Figure size 640x480 with 1 Axes>"
      ]
     },
     "metadata": {},
     "output_type": "display_data"
    },
    {
     "data": {
      "image/png": "[encoded data removed]",
      "text/plain": [
       "<Figure size 640x480 with 1 Axes>"
      ]
     },
     "metadata": {},
     "output_type": "display_data"
    }
   ],
   "source": [
    "early_stopping = keras.callbacks.EarlyStopping(\n",
    "    patience=5,\n",
    "    min_delta=0.001,\n",
    "    restore_best_weights=True,\n",
    ")\n",
    "history = model.fit(\n",
    "    X_train, y_train,\n",
    "    validation_data=(X_valid, y_valid),\n",
    "    batch_size=512,\n",
    "    epochs=200,\n",
    "    callbacks=[early_stopping],\n",
    ")\n",
    "\n",
    "history_df = pd.DataFrame(history.history)\n",
    "history_df.loc[:, ['loss', 'val_loss']].plot(title=\"Cross-entropy\")\n",
    "history_df.loc[:, ['binary_accuracy', 'val_binary_accuracy']].plot(title=\"Accuracy\")"
   ]
  },
  {
   "cell_type": "markdown",
   "id": "10f3c66a",
   "metadata": {
    "papermill": {
     "duration": 0.034422,
     "end_time": "2025-03-15T01:27:05.585103",
     "exception": false,
     "start_time": "2025-03-15T01:27:05.550681",
     "status": "completed"
    },
    "tags": []
   },
   "source": [
    "# 3) Train and Evaluate #\n",
    "\n",
    "\n",
    "What do you think about the learning curves? Does it look like the model underfit or overfit? Was the cross-entropy loss a good stand-in for accuracy?"
   ]
  },
  {
   "cell_type": "code",
   "execution_count": 7,
   "id": "6b00f3fd",
   "metadata": {
    "execution": {
     "iopub.execute_input": "2025-03-15T01:27:05.654495Z",
     "iopub.status.busy": "2025-03-15T01:27:05.653827Z",
     "iopub.status.idle": "2025-03-15T01:27:05.661001Z",
     "shell.execute_reply": "2025-03-15T01:27:05.660070Z"
    },
    "papermill": {
     "duration": 0.043455,
     "end_time": "2025-03-15T01:27:05.662872",
     "exception": false,
     "start_time": "2025-03-15T01:27:05.619417",
     "status": "completed"
    },
    "tags": []
   },
   "outputs": [
    {
     "data": {
      "application/javascript": [
       "parent.postMessage({\"jupyterEvent\": \"custom.exercise_interaction\", \"data\": {\"outcomeType\": 1, \"valueTowardsCompletion\": 0.3333333333333333, \"interactionType\": 1, \"questionType\": 4, \"questionId\": \"3_Q3\", \"learnToolsVersion\": \"0.3.4\", \"failureMessage\": \"\", \"exceptionClass\": \"\", \"trace\": \"\"}}, \"*\")"
      ],
      "text/plain": [
       "<IPython.core.display.Javascript object>"
      ]
     },
     "metadata": {},
     "output_type": "display_data"
    },
    {
     "data": {
      "text/markdown": [
       "<span style=\"color:#33cc33\">Correct:</span> \n",
       "\n",
       "Though we can see the training loss continuing to fall, the early stopping callback prevented any overfitting. Moreover, the accuracy rose at the same rate as the cross-entropy fell, so it appears that minimizing cross-entropy was a good stand-in. All in all, it looks like this training was a success!"
      ],
      "text/plain": [
       "Correct: \n",
       "\n",
       "Though we can see the training loss continuing to fall, the early stopping callback prevented any overfitting. Moreover, the accuracy rose at the same rate as the cross-entropy fell, so it appears that minimizing cross-entropy was a good stand-in. All in all, it looks like this training was a success!"
      ]
     },
     "metadata": {},
     "output_type": "display_data"
    }
   ],
   "source": [
    "# View the solution (Run this cell to receive credit!)\n",
    "q_3.check()"
   ]
  },
  {
   "cell_type": "markdown",
   "id": "52bd8707",
   "metadata": {
    "papermill": {
     "duration": 0.035939,
     "end_time": "2025-03-15T01:27:05.733834",
     "exception": false,
     "start_time": "2025-03-15T01:27:05.697895",
     "status": "completed"
    },
    "tags": []
   },
   "source": [
    "# Conclusion #\n",
    "\n",
    "Congratulations! You've completed Kaggle's *Introduction to Deep Learning* course!\n",
    "\n",
    "With your new skills you're ready to take on more advanced applications like computer vision and sentiment classification. What would you like to do next?\n",
    "\n",
    "Why not try one of our *Getting Started* competitions?\n",
    "\n",
    "- Classify images with TPUs in [**Petals to the Metal**](https://www.kaggle.com/c/tpu-getting-started)\n",
    "- Create art with GANs in [**I'm Something of a Painter Myself**](https://www.kaggle.com/c/gan-getting-started)\n",
    "- Classify Tweets in [**Real or Not? NLP with Disaster Tweets**](https://www.kaggle.com/c/nlp-getting-started)\n",
    "- Detect contradiction and entailment in [**Contradictory, My Dear Watson**](https://www.kaggle.com/c/contradictory-my-dear-watson)\n",
    "\n",
    "Until next time, Kagglers!"
   ]
  },
  {
   "cell_type": "markdown",
   "id": "2b2b1f69",
   "metadata": {
    "papermill": {
     "duration": 0.034196,
     "end_time": "2025-03-15T01:27:05.803877",
     "exception": false,
     "start_time": "2025-03-15T01:27:05.769681",
     "status": "completed"
    },
    "tags": []
   },
   "source": [
    "---\n",
    "\n",
    "\n",
    "\n",
    "\n",
    "*Have questions or comments? Visit the [course discussion forum](https://www.kaggle.com/learn/intro-to-deep-learning/discussion) to chat with other learners.*"
   ]
  }
 ],
 "metadata": {
  "jupytext": {
   "cell_metadata_filter": "-all",
   "formats": "ipynb"
  },
  "kaggle": {
   "accelerator": "gpu",
   "dataSources": [
    {
     "datasetId": 829369,
     "sourceId": 1480608,
     "sourceType": "datasetVersion"
    }
   ],
   "dockerImageVersionId": 30648,
   "isGpuEnabled": true,
   "isInternetEnabled": false,
   "language": "python",
   "sourceType": "notebook"
  },
  "kernelspec": {
   "display_name": "Python 3",
   "language": "python",
   "name": "python3"
  },
  "language_info": {
   "codemirror_mode": {
    "name": "ipython",
    "version": 3
   },
   "file_extension": ".py",
   "mimetype": "text/x-python",
   "name": "python",
   "nbconvert_exporter": "python",
   "pygments_lexer": "ipython3",
   "version": "3.10.13"
  },
  "papermill": {
   "default_parameters": {},
   "duration": 63.285834,
   "end_time": "2025-03-15T01:27:08.224375",
   "environment_variables": {},
   "exception": null,
   "input_path": "__notebook__.ipynb",
   "output_path": "__notebook__.ipynb",
   "parameters": {},
   "start_time": "2025-03-15T01:26:04.938541",
   "version": "2.5.0"
  }
 },
 "nbformat": 4,
 "nbformat_minor": 5
}
