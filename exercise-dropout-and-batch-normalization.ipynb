{
 "cells": [
  {
   "cell_type": "markdown",
   "id": "9d2fa964",
   "metadata": {
    "papermill": {
     "duration": 0.00429,
     "end_time": "2025-03-15T01:26:56.484852",
     "exception": false,
     "start_time": "2025-03-15T01:26:56.480562",
     "status": "completed"
    },
    "tags": []
   },
   "source": [
    "**This notebook is an exercise in the [Intro to Deep Learning](https://www.kaggle.com/learn/intro-to-deep-learning) course.  You can reference the tutorial at [this link](https://www.kaggle.com/ryanholbrook/dropout-and-batch-normalization).**\n",
    "\n",
    "---\n"
   ]
  },
  {
   "cell_type": "markdown",
   "id": "30e3de4e",
   "metadata": {
    "papermill": {
     "duration": 0.003495,
     "end_time": "2025-03-15T01:26:56.492185",
     "exception": false,
     "start_time": "2025-03-15T01:26:56.488690",
     "status": "completed"
    },
    "tags": []
   },
   "source": [
    "# Introduction #\n",
    "\n",
    "In this exercise, you'll add dropout to the *Spotify* model from Exercise 4 and see how batch normalization can let you successfully train models on difficult datasets.\n",
    "\n",
    "Run the next cell to get started!"
   ]
  },
  {
   "cell_type": "code",
   "execution_count": 1,
   "id": "ad83b1d6",
   "metadata": {
    "execution": {
     "iopub.execute_input": "2025-03-15T01:26:56.501430Z",
     "iopub.status.busy": "2025-03-15T01:26:56.500778Z",
     "iopub.status.idle": "2025-03-15T01:26:57.274223Z",
     "shell.execute_reply": "2025-03-15T01:26:57.273565Z"
    },
    "papermill": {
     "duration": 0.780304,
     "end_time": "2025-03-15T01:26:57.276192",
     "exception": false,
     "start_time": "2025-03-15T01:26:56.495888",
     "status": "completed"
    },
    "tags": []
   },
   "outputs": [
    {
     "name": "stderr",
     "output_type": "stream",
     "text": [
      "/tmp/ipykernel_26/195640296.py:3: MatplotlibDeprecationWarning: The seaborn styles shipped by Matplotlib are deprecated since 3.6, as they no longer correspond to the styles shipped by seaborn. However, they will remain available as 'seaborn-v0_8-<style>'. Alternatively, directly use the seaborn API instead.\n",
      "  plt.style.use('seaborn-whitegrid')\n"
     ]
    }
   ],
   "source": [
    "# Setup plotting\n",
    "import matplotlib.pyplot as plt\n",
    "plt.style.use('seaborn-whitegrid')\n",
    "# Set Matplotlib defaults\n",
    "plt.rc('figure', autolayout=True)\n",
    "plt.rc('axes', labelweight='bold', labelsize='large',\n",
    "       titleweight='bold', titlesize=18, titlepad=10)\n",
    "plt.rc('animation', html='html5')\n",
    "\n",
    "# Setup feedback system\n",
    "from learntools.core import binder\n",
    "binder.bind(globals())\n",
    "from learntools.deep_learning_intro.ex5 import *"
   ]
  },
  {
   "cell_type": "markdown",
   "id": "511e41ee",
   "metadata": {
    "papermill": {
     "duration": 0.003614,
     "end_time": "2025-03-15T01:26:57.283826",
     "exception": false,
     "start_time": "2025-03-15T01:26:57.280212",
     "status": "completed"
    },
    "tags": []
   },
   "source": [
    "First load the *Spotify* dataset."
   ]
  },
  {
   "cell_type": "code",
   "execution_count": 2,
   "id": "ac99b47c",
   "metadata": {
    "execution": {
     "iopub.execute_input": "2025-03-15T01:26:57.292667Z",
     "iopub.status.busy": "2025-03-15T01:26:57.291904Z",
     "iopub.status.idle": "2025-03-15T01:27:10.352759Z",
     "shell.execute_reply": "2025-03-15T01:27:10.351675Z"
    },
    "papermill": {
     "duration": 13.06719,
     "end_time": "2025-03-15T01:27:10.354614",
     "exception": false,
     "start_time": "2025-03-15T01:26:57.287424",
     "status": "completed"
    },
    "tags": []
   },
   "outputs": [
    {
     "name": "stderr",
     "output_type": "stream",
     "text": [
      "2025-03-15 01:27:00.188415: E external/local_xla/xla/stream_executor/cuda/cuda_dnn.cc:9261] Unable to register cuDNN factory: Attempting to register factory for plugin cuDNN when one has already been registered\n",
      "2025-03-15 01:27:00.188537: E external/local_xla/xla/stream_executor/cuda/cuda_fft.cc:607] Unable to register cuFFT factory: Attempting to register factory for plugin cuFFT when one has already been registered\n",
      "2025-03-15 01:27:00.322768: E external/local_xla/xla/stream_executor/cuda/cuda_blas.cc:1515] Unable to register cuBLAS factory: Attempting to register factory for plugin cuBLAS when one has already been registered\n"
     ]
    },
    {
     "name": "stdout",
     "output_type": "stream",
     "text": [
      "Input shape: [18]\n"
     ]
    }
   ],
   "source": [
    "import pandas as pd\n",
    "from sklearn.preprocessing import StandardScaler, OneHotEncoder\n",
    "from sklearn.compose import make_column_transformer\n",
    "from sklearn.model_selection import GroupShuffleSplit\n",
    "\n",
    "from tensorflow import keras\n",
    "from tensorflow.keras import layers\n",
    "from tensorflow.keras import callbacks\n",
    "\n",
    "spotify = pd.read_csv('../input/dl-course-data/spotify.csv')\n",
    "\n",
    "X = spotify.copy().dropna()\n",
    "y = X.pop('track_popularity')\n",
    "artists = X['track_artist']\n",
    "\n",
    "features_num = ['danceability', 'energy', 'key', 'loudness', 'mode',\n",
    "                'speechiness', 'acousticness', 'instrumentalness',\n",
    "                'liveness', 'valence', 'tempo', 'duration_ms']\n",
    "features_cat = ['playlist_genre']\n",
    "\n",
    "preprocessor = make_column_transformer(\n",
    "    (StandardScaler(), features_num),\n",
    "    (OneHotEncoder(), features_cat),\n",
    ")\n",
    "\n",
    "def group_split(X, y, group, train_size=0.75):\n",
    "    splitter = GroupShuffleSplit(train_size=train_size)\n",
    "    train, test = next(splitter.split(X, y, groups=group))\n",
    "    return (X.iloc[train], X.iloc[test], y.iloc[train], y.iloc[test])\n",
    "\n",
    "X_train, X_valid, y_train, y_valid = group_split(X, y, artists)\n",
    "\n",
    "X_train = preprocessor.fit_transform(X_train)\n",
    "X_valid = preprocessor.transform(X_valid)\n",
    "y_train = y_train / 100\n",
    "y_valid = y_valid / 100\n",
    "\n",
    "input_shape = [X_train.shape[1]]\n",
    "print(\"Input shape: {}\".format(input_shape))"
   ]
  },
  {
   "cell_type": "markdown",
   "id": "3b8c8a0a",
   "metadata": {
    "papermill": {
     "duration": 0.003725,
     "end_time": "2025-03-15T01:27:10.362588",
     "exception": false,
     "start_time": "2025-03-15T01:27:10.358863",
     "status": "completed"
    },
    "tags": []
   },
   "source": [
    "# 1) Add Dropout to Spotify Model\n",
    "\n",
    "Here is the last model from Exercise 4. Add two dropout layers, one after the `Dense` layer with 128 units, and one after the `Dense` layer with 64 units. Set the dropout rate on both to `0.3`."
   ]
  },
  {
   "cell_type": "code",
   "execution_count": 3,
   "id": "d1c72b7d",
   "metadata": {
    "execution": {
     "iopub.execute_input": "2025-03-15T01:27:10.372226Z",
     "iopub.status.busy": "2025-03-15T01:27:10.371510Z",
     "iopub.status.idle": "2025-03-15T01:27:11.357603Z",
     "shell.execute_reply": "2025-03-15T01:27:11.356698Z"
    },
    "lines_to_next_cell": 2,
    "papermill": {
     "duration": 0.992897,
     "end_time": "2025-03-15T01:27:11.359245",
     "exception": false,
     "start_time": "2025-03-15T01:27:10.366348",
     "status": "completed"
    },
    "tags": []
   },
   "outputs": [
    {
     "data": {
      "application/javascript": [
       "parent.postMessage({\"jupyterEvent\": \"custom.exercise_interaction\", \"data\": {\"outcomeType\": 1, \"valueTowardsCompletion\": 0.25, \"interactionType\": 1, \"questionType\": 2, \"questionId\": \"1_Q1\", \"learnToolsVersion\": \"0.3.4\", \"failureMessage\": \"\", \"exceptionClass\": \"\", \"trace\": \"\"}}, \"*\")"
      ],
      "text/plain": [
       "<IPython.core.display.Javascript object>"
      ]
     },
     "metadata": {},
     "output_type": "display_data"
    },
    {
     "data": {
      "text/markdown": [
       "<span style=\"color:#33cc33\">Correct</span>"
      ],
      "text/plain": [
       "Correct"
      ]
     },
     "metadata": {},
     "output_type": "display_data"
    }
   ],
   "source": [
    "# YOUR CODE HERE: Add two 30% dropout layers, one after 128 and one after 64\n",
    "model = keras.Sequential([\n",
    "    layers.Dense(128, activation='relu', input_shape=input_shape),\n",
    "    layers.Dropout(0.3),\n",
    "    layers.Dense(64, activation='relu'),\n",
    "    layers.Dropout(0.3),\n",
    "    layers.Dense(1)\n",
    "])\n",
    "\n",
    "# Check your answer\n",
    "q_1.check()"
   ]
  },
  {
   "cell_type": "code",
   "execution_count": 4,
   "id": "1a6dcdb3",
   "metadata": {
    "execution": {
     "iopub.execute_input": "2025-03-15T01:27:11.368323Z",
     "iopub.status.busy": "2025-03-15T01:27:11.368087Z",
     "iopub.status.idle": "2025-03-15T01:27:11.371331Z",
     "shell.execute_reply": "2025-03-15T01:27:11.370611Z"
    },
    "papermill": {
     "duration": 0.009472,
     "end_time": "2025-03-15T01:27:11.372811",
     "exception": false,
     "start_time": "2025-03-15T01:27:11.363339",
     "status": "completed"
    },
    "tags": []
   },
   "outputs": [],
   "source": [
    "# Lines below will give you a hint or solution code\n",
    "#q_1.hint()\n",
    "#q_1.solution()"
   ]
  },
  {
   "cell_type": "markdown",
   "id": "811b9976",
   "metadata": {
    "papermill": {
     "duration": 0.003791,
     "end_time": "2025-03-15T01:27:11.380698",
     "exception": false,
     "start_time": "2025-03-15T01:27:11.376907",
     "status": "completed"
    },
    "tags": []
   },
   "source": [
    "Now run this next cell to train the model see the effect of adding dropout."
   ]
  },
  {
   "cell_type": "code",
   "execution_count": 5,
   "id": "c7dbb911",
   "metadata": {
    "execution": {
     "iopub.execute_input": "2025-03-15T01:27:11.390428Z",
     "iopub.status.busy": "2025-03-15T01:27:11.390200Z",
     "iopub.status.idle": "2025-03-15T01:27:22.267668Z",
     "shell.execute_reply": "2025-03-15T01:27:22.266784Z"
    },
    "papermill": {
     "duration": 10.88461,
     "end_time": "2025-03-15T01:27:22.269267",
     "exception": false,
     "start_time": "2025-03-15T01:27:11.384657",
     "status": "completed"
    },
    "tags": []
   },
   "outputs": [
    {
     "name": "stderr",
     "output_type": "stream",
     "text": [
      "WARNING: All log messages before absl::InitializeLog() is called are written to STDERR\n",
      "I0000 00:00:1742002033.753824      68 device_compiler.h:186] Compiled cluster using XLA!  This line is logged at most once for the lifetime of the process.\n"
     ]
    },
    {
     "name": "stdout",
     "output_type": "stream",
     "text": [
      "Minimum Validation Loss: 0.1952\n"
     ]
    },
    {
     "data": {
      "image/png": "[encoded data removed]",
      "text/plain": [
       "<Figure size 640x480 with 1 Axes>"
      ]
     },
     "metadata": {},
     "output_type": "display_data"
    }
   ],
   "source": [
    "model.compile(\n",
    "    optimizer='adam',\n",
    "    loss='mae',\n",
    ")\n",
    "history = model.fit(\n",
    "    X_train, y_train,\n",
    "    validation_data=(X_valid, y_valid),\n",
    "    batch_size=512,\n",
    "    epochs=50,\n",
    "    verbose=0,\n",
    ")\n",
    "history_df = pd.DataFrame(history.history)\n",
    "history_df.loc[:, ['loss', 'val_loss']].plot()\n",
    "print(\"Minimum Validation Loss: {:0.4f}\".format(history_df['val_loss'].min()))"
   ]
  },
  {
   "cell_type": "markdown",
   "id": "66c33898",
   "metadata": {
    "papermill": {
     "duration": 0.004383,
     "end_time": "2025-03-15T01:27:22.278238",
     "exception": false,
     "start_time": "2025-03-15T01:27:22.273855",
     "status": "completed"
    },
    "tags": []
   },
   "source": [
    "# 2) Evaluate Dropout\n",
    "\n",
    "Recall from Exercise 4 that this model tended to overfit the data around epoch 5. Did adding dropout seem to help prevent overfitting this time?"
   ]
  },
  {
   "cell_type": "code",
   "execution_count": 6,
   "id": "764ba069",
   "metadata": {
    "execution": {
     "iopub.execute_input": "2025-03-15T01:27:22.288327Z",
     "iopub.status.busy": "2025-03-15T01:27:22.288056Z",
     "iopub.status.idle": "2025-03-15T01:27:22.294693Z",
     "shell.execute_reply": "2025-03-15T01:27:22.293922Z"
    },
    "papermill": {
     "duration": 0.013483,
     "end_time": "2025-03-15T01:27:22.296235",
     "exception": false,
     "start_time": "2025-03-15T01:27:22.282752",
     "status": "completed"
    },
    "tags": []
   },
   "outputs": [
    {
     "data": {
      "application/javascript": [
       "parent.postMessage({\"jupyterEvent\": \"custom.exercise_interaction\", \"data\": {\"outcomeType\": 1, \"valueTowardsCompletion\": 0.25, \"interactionType\": 1, \"questionType\": 4, \"questionId\": \"2_Q2\", \"learnToolsVersion\": \"0.3.4\", \"failureMessage\": \"\", \"exceptionClass\": \"\", \"trace\": \"\"}}, \"*\")"
      ],
      "text/plain": [
       "<IPython.core.display.Javascript object>"
      ]
     },
     "metadata": {},
     "output_type": "display_data"
    },
    {
     "data": {
      "text/markdown": [
       "<span style=\"color:#33cc33\">Correct:</span> \n",
       "\n",
       "\n",
       "From the learning curves, you can see that the validation loss remains near a constant minimum even though the training loss continues to decrease. So we can see that adding dropout did prevent overfitting this time. Moreover, by making it harder for the network to fit spurious patterns, dropout may have encouraged the network to seek out more of the true patterns, possibly improving the validation loss some as well).\n"
      ],
      "text/plain": [
       "Correct: \n",
       "\n",
       "\n",
       "From the learning curves, you can see that the validation loss remains near a constant minimum even though the training loss continues to decrease. So we can see that adding dropout did prevent overfitting this time. Moreover, by making it harder for the network to fit spurious patterns, dropout may have encouraged the network to seek out more of the true patterns, possibly improving the validation loss some as well)."
      ]
     },
     "metadata": {},
     "output_type": "display_data"
    }
   ],
   "source": [
    "# View the solution (Run this cell to receive credit!)\n",
    "q_2.check()"
   ]
  },
  {
   "cell_type": "markdown",
   "id": "aee85537",
   "metadata": {
    "papermill": {
     "duration": 0.004437,
     "end_time": "2025-03-15T01:27:22.305326",
     "exception": false,
     "start_time": "2025-03-15T01:27:22.300889",
     "status": "completed"
    },
    "tags": []
   },
   "source": [
    "Now, we'll switch topics to explore how batch normalization can fix problems in training.\n",
    "\n",
    "Load the *Concrete* dataset. We won't do any standardization this time. This will make the effect of batch normalization much more apparent."
   ]
  },
  {
   "cell_type": "code",
   "execution_count": 7,
   "id": "3c45d058",
   "metadata": {
    "execution": {
     "iopub.execute_input": "2025-03-15T01:27:22.315895Z",
     "iopub.status.busy": "2025-03-15T01:27:22.315416Z",
     "iopub.status.idle": "2025-03-15T01:27:22.332742Z",
     "shell.execute_reply": "2025-03-15T01:27:22.332181Z"
    },
    "papermill": {
     "duration": 0.02434,
     "end_time": "2025-03-15T01:27:22.334361",
     "exception": false,
     "start_time": "2025-03-15T01:27:22.310021",
     "status": "completed"
    },
    "tags": []
   },
   "outputs": [],
   "source": [
    "import pandas as pd\n",
    "\n",
    "concrete = pd.read_csv('../input/dl-course-data/concrete.csv')\n",
    "df = concrete.copy()\n",
    "\n",
    "df_train = df.sample(frac=0.7, random_state=0)\n",
    "df_valid = df.drop(df_train.index)\n",
    "\n",
    "X_train = df_train.drop('CompressiveStrength', axis=1)\n",
    "X_valid = df_valid.drop('CompressiveStrength', axis=1)\n",
    "y_train = df_train['CompressiveStrength']\n",
    "y_valid = df_valid['CompressiveStrength']\n",
    "\n",
    "input_shape = [X_train.shape[1]]"
   ]
  },
  {
   "cell_type": "markdown",
   "id": "55ccef27",
   "metadata": {
    "papermill": {
     "duration": 0.004522,
     "end_time": "2025-03-15T01:27:22.343545",
     "exception": false,
     "start_time": "2025-03-15T01:27:22.339023",
     "status": "completed"
    },
    "tags": []
   },
   "source": [
    "Run the following cell to train the network on the unstandardized *Concrete* data."
   ]
  },
  {
   "cell_type": "code",
   "execution_count": 8,
   "id": "b33a83d7",
   "metadata": {
    "execution": {
     "iopub.execute_input": "2025-03-15T01:27:22.354306Z",
     "iopub.status.busy": "2025-03-15T01:27:22.353853Z",
     "iopub.status.idle": "2025-03-15T01:27:29.191165Z",
     "shell.execute_reply": "2025-03-15T01:27:29.190158Z"
    },
    "papermill": {
     "duration": 6.844958,
     "end_time": "2025-03-15T01:27:29.193349",
     "exception": false,
     "start_time": "2025-03-15T01:27:22.348391",
     "status": "completed"
    },
    "tags": []
   },
   "outputs": [
    {
     "name": "stdout",
     "output_type": "stream",
     "text": [
      "Minimum Validation Loss: nan\n"
     ]
    },
    {
     "data": {
      "image/png": "[encoded data removed]",
      "text/plain": [
       "<Figure size 640x480 with 1 Axes>"
      ]
     },
     "metadata": {},
     "output_type": "display_data"
    }
   ],
   "source": [
    "model = keras.Sequential([\n",
    "    layers.Dense(512, activation='relu', input_shape=input_shape),\n",
    "    layers.Dense(512, activation='relu'),    \n",
    "    layers.Dense(512, activation='relu'),\n",
    "    layers.Dense(1),\n",
    "])\n",
    "model.compile(\n",
    "    optimizer='sgd', # SGD is more sensitive to differences of scale\n",
    "    loss='mae',\n",
    "    metrics=['mae'],\n",
    ")\n",
    "history = model.fit(\n",
    "    X_train, y_train,\n",
    "    validation_data=(X_valid, y_valid),\n",
    "    batch_size=64,\n",
    "    epochs=100,\n",
    "    verbose=0,\n",
    ")\n",
    "\n",
    "history_df = pd.DataFrame(history.history)\n",
    "history_df.loc[0:, ['loss', 'val_loss']].plot()\n",
    "print((\"Minimum Validation Loss: {:0.4f}\").format(history_df['val_loss'].min()))"
   ]
  },
  {
   "cell_type": "markdown",
   "id": "6bcb2506",
   "metadata": {
    "papermill": {
     "duration": 0.004771,
     "end_time": "2025-03-15T01:27:29.203342",
     "exception": false,
     "start_time": "2025-03-15T01:27:29.198571",
     "status": "completed"
    },
    "tags": []
   },
   "source": [
    "Did you end up with a blank graph? Trying to train this network on this dataset will usually fail. Even when it does converge (due to a lucky weight initialization), it tends to converge to a very large number.\n",
    "\n",
    "# 3) Add Batch Normalization Layers\n",
    "\n",
    "Batch normalization can help correct problems like this.\n",
    "\n",
    "Add four `BatchNormalization` layers, one before each of the dense layers. (Remember to move the `input_shape` argument to the new first layer.)"
   ]
  },
  {
   "cell_type": "code",
   "execution_count": 9,
   "id": "62d52615",
   "metadata": {
    "execution": {
     "iopub.execute_input": "2025-03-15T01:27:29.214344Z",
     "iopub.status.busy": "2025-03-15T01:27:29.214072Z",
     "iopub.status.idle": "2025-03-15T01:27:29.325537Z",
     "shell.execute_reply": "2025-03-15T01:27:29.324707Z"
    },
    "lines_to_next_cell": 0,
    "papermill": {
     "duration": 0.118927,
     "end_time": "2025-03-15T01:27:29.327182",
     "exception": false,
     "start_time": "2025-03-15T01:27:29.208255",
     "status": "completed"
    },
    "tags": []
   },
   "outputs": [
    {
     "data": {
      "application/javascript": [
       "parent.postMessage({\"jupyterEvent\": \"custom.exercise_interaction\", \"data\": {\"outcomeType\": 1, \"valueTowardsCompletion\": 0.25, \"interactionType\": 1, \"questionType\": 2, \"questionId\": \"3_Q3\", \"learnToolsVersion\": \"0.3.4\", \"failureMessage\": \"\", \"exceptionClass\": \"\", \"trace\": \"\"}}, \"*\")"
      ],
      "text/plain": [
       "<IPython.core.display.Javascript object>"
      ]
     },
     "metadata": {},
     "output_type": "display_data"
    },
    {
     "data": {
      "text/markdown": [
       "<span style=\"color:#33cc33\">Correct</span>"
      ],
      "text/plain": [
       "Correct"
      ]
     },
     "metadata": {},
     "output_type": "display_data"
    }
   ],
   "source": [
    "# YOUR CODE HERE: Add a BatchNormalization layer before each Dense layer\n",
    "model = keras.Sequential([\n",
    "    layers.BatchNormalization(input_shape=input_shape),\n",
    "    layers.Dense(512, activation='relu', input_shape=input_shape),\n",
    "    layers.BatchNormalization(),\n",
    "    layers.Dense(512, activation='relu'),\n",
    "    layers.BatchNormalization(),\n",
    "    layers.Dense(512, activation='relu'),\n",
    "    layers.BatchNormalization(),\n",
    "    layers.Dense(1),\n",
    "])\n",
    "\n",
    "# Check your answer\n",
    "q_3.check()"
   ]
  },
  {
   "cell_type": "code",
   "execution_count": 10,
   "id": "6d00200d",
   "metadata": {
    "execution": {
     "iopub.execute_input": "2025-03-15T01:27:29.338601Z",
     "iopub.status.busy": "2025-03-15T01:27:29.338147Z",
     "iopub.status.idle": "2025-03-15T01:27:29.341482Z",
     "shell.execute_reply": "2025-03-15T01:27:29.340803Z"
    },
    "papermill": {
     "duration": 0.010743,
     "end_time": "2025-03-15T01:27:29.343071",
     "exception": false,
     "start_time": "2025-03-15T01:27:29.332328",
     "status": "completed"
    },
    "tags": []
   },
   "outputs": [],
   "source": [
    "# Lines below will give you a hint or solution code\n",
    "#q_3.hint()\n",
    "#q_3.solution()"
   ]
  },
  {
   "cell_type": "markdown",
   "id": "c847390d",
   "metadata": {
    "papermill": {
     "duration": 0.004869,
     "end_time": "2025-03-15T01:27:29.353079",
     "exception": false,
     "start_time": "2025-03-15T01:27:29.348210",
     "status": "completed"
    },
    "tags": []
   },
   "source": [
    "Run the next cell to see if batch normalization will let us train the model."
   ]
  },
  {
   "cell_type": "code",
   "execution_count": 11,
   "id": "da02d203",
   "metadata": {
    "execution": {
     "iopub.execute_input": "2025-03-15T01:27:29.364040Z",
     "iopub.status.busy": "2025-03-15T01:27:29.363808Z",
     "iopub.status.idle": "2025-03-15T01:27:39.968745Z",
     "shell.execute_reply": "2025-03-15T01:27:39.967858Z"
    },
    "papermill": {
     "duration": 10.612314,
     "end_time": "2025-03-15T01:27:39.970390",
     "exception": false,
     "start_time": "2025-03-15T01:27:29.358076",
     "status": "completed"
    },
    "tags": []
   },
   "outputs": [
    {
     "name": "stdout",
     "output_type": "stream",
     "text": [
      "Minimum Validation Loss: 3.8636\n"
     ]
    },
    {
     "data": {
      "image/png": "[encoded data removed]",
      "text/plain": [
       "<Figure size 640x480 with 1 Axes>"
      ]
     },
     "metadata": {},
     "output_type": "display_data"
    }
   ],
   "source": [
    "model.compile(\n",
    "    optimizer='sgd',\n",
    "    loss='mae',\n",
    "    metrics=['mae'],\n",
    ")\n",
    "EPOCHS = 100\n",
    "history = model.fit(\n",
    "    X_train, y_train,\n",
    "    validation_data=(X_valid, y_valid),\n",
    "    batch_size=64,\n",
    "    epochs=EPOCHS,\n",
    "    verbose=0,\n",
    ")\n",
    "\n",
    "history_df = pd.DataFrame(history.history)\n",
    "history_df.loc[0:, ['loss', 'val_loss']].plot()\n",
    "print((\"Minimum Validation Loss: {:0.4f}\").format(history_df['val_loss'].min()))"
   ]
  },
  {
   "cell_type": "markdown",
   "id": "2e43278e",
   "metadata": {
    "papermill": {
     "duration": 0.005512,
     "end_time": "2025-03-15T01:27:39.981778",
     "exception": false,
     "start_time": "2025-03-15T01:27:39.976266",
     "status": "completed"
    },
    "tags": []
   },
   "source": [
    "# 4) Evaluate Batch Normalization\n",
    "\n",
    "Did adding batch normalization help?"
   ]
  },
  {
   "cell_type": "code",
   "execution_count": 12,
   "id": "36b5c428",
   "metadata": {
    "execution": {
     "iopub.execute_input": "2025-03-15T01:27:39.994244Z",
     "iopub.status.busy": "2025-03-15T01:27:39.993546Z",
     "iopub.status.idle": "2025-03-15T01:27:40.000269Z",
     "shell.execute_reply": "2025-03-15T01:27:39.999487Z"
    },
    "lines_to_next_cell": 0,
    "papermill": {
     "duration": 0.01476,
     "end_time": "2025-03-15T01:27:40.001998",
     "exception": false,
     "start_time": "2025-03-15T01:27:39.987238",
     "status": "completed"
    },
    "tags": []
   },
   "outputs": [
    {
     "data": {
      "application/javascript": [
       "parent.postMessage({\"jupyterEvent\": \"custom.exercise_interaction\", \"data\": {\"outcomeType\": 1, \"valueTowardsCompletion\": 0.25, \"interactionType\": 1, \"questionType\": 4, \"questionId\": \"4_Q4\", \"learnToolsVersion\": \"0.3.4\", \"failureMessage\": \"\", \"exceptionClass\": \"\", \"trace\": \"\"}}, \"*\")"
      ],
      "text/plain": [
       "<IPython.core.display.Javascript object>"
      ]
     },
     "metadata": {},
     "output_type": "display_data"
    },
    {
     "data": {
      "text/markdown": [
       "<span style=\"color:#33cc33\">Correct:</span> \n",
       "\n",
       "\n",
       "You can see that adding batch normalization was a big improvement on the first attempt! By adaptively scaling the data as it passes through the network, batch normalization can let you train models on difficult datasets.\n"
      ],
      "text/plain": [
       "Correct: \n",
       "\n",
       "\n",
       "You can see that adding batch normalization was a big improvement on the first attempt! By adaptively scaling the data as it passes through the network, batch normalization can let you train models on difficult datasets."
      ]
     },
     "metadata": {},
     "output_type": "display_data"
    }
   ],
   "source": [
    "# View the solution (Run this cell to receive credit!)\n",
    "q_4.check()"
   ]
  },
  {
   "cell_type": "markdown",
   "id": "2e3755b2",
   "metadata": {
    "papermill": {
     "duration": 0.005703,
     "end_time": "2025-03-15T01:27:40.013656",
     "exception": false,
     "start_time": "2025-03-15T01:27:40.007953",
     "status": "completed"
    },
    "tags": []
   },
   "source": [
    "# Keep Going #\n",
    "\n",
    "[**Create neural networks**](https://www.kaggle.com/ryanholbrook/binary-classification) for binary classification."
   ]
  },
  {
   "cell_type": "markdown",
   "id": "8f6ad31f",
   "metadata": {
    "papermill": {
     "duration": 0.00547,
     "end_time": "2025-03-15T01:27:40.024715",
     "exception": false,
     "start_time": "2025-03-15T01:27:40.019245",
     "status": "completed"
    },
    "tags": []
   },
   "source": [
    "---\n",
    "\n",
    "\n",
    "\n",
    "\n",
    "*Have questions or comments? Visit the [course discussion forum](https://www.kaggle.com/learn/intro-to-deep-learning/discussion) to chat with other learners.*"
   ]
  }
 ],
 "metadata": {
  "jupytext": {
   "cell_metadata_filter": "-all",
   "formats": "ipynb"
  },
  "kaggle": {
   "accelerator": "gpu",
   "dataSources": [
    {
     "datasetId": 829369,
     "sourceId": 1480608,
     "sourceType": "datasetVersion"
    }
   ],
   "dockerImageVersionId": 30648,
   "isGpuEnabled": true,
   "isInternetEnabled": false,
   "language": "python",
   "sourceType": "notebook"
  },
  "kernelspec": {
   "display_name": "Python 3",
   "language": "python",
   "name": "python3"
  },
  "language_info": {
   "codemirror_mode": {
    "name": "ipython",
    "version": 3
   },
   "file_extension": ".py",
   "mimetype": "text/x-python",
   "name": "python",
   "nbconvert_exporter": "python",
   "pygments_lexer": "ipython3",
   "version": "3.10.13"
  },
  "papermill": {
   "default_parameters": {},
   "duration": 48.169917,
   "end_time": "2025-03-15T01:27:42.052967",
   "environment_variables": {},
   "exception": null,
   "input_path": "__notebook__.ipynb",
   "output_path": "__notebook__.ipynb",
   "parameters": {},
   "start_time": "2025-03-15T01:26:53.883050",
   "version": "2.5.0"
  }
 },
 "nbformat": 4,
 "nbformat_minor": 5
}
